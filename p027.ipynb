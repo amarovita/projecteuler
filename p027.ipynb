{
 "cells": [
  {
   "cell_type": "markdown",
   "metadata": {},
   "source": [
    "# Quadratic primes\n",
    "## __[Problem 27](http://projecteuler.net/problem=27)__"
   ]
  },
  {
   "cell_type": "markdown",
   "metadata": {},
   "source": [
    "Euler discovered the remarkable quadratic formula: n²+n+41\n",
    "\n",
    "It turns out that the formula will produce 40 primes for the consecutive integer values 0≤n≤39. However, when n=40,40²+40+41=40(40+1)+41 is divisible by 41, and certainly when n=41, 41²+41+41 is clearly divisible by 41.\n",
    "\n",
    "The incredible formula n²−79n+1601 was discovered, which produces 80 primes for the consecutive values 0≤n≤79. The product of the coefficients, −79 and 1601, is −126479.\n",
    "\n",
    "Considering quadratics of the form: n²+an+b, where |a|<1000 and |b|≤1000, where |n| is the modulus/absolute value of n, e.g. |11|=11 and |−4|=4\n",
    "\n",
    "Find the product of the coefficients, a and b, for the quadratic expression that produces the maximum number of primes for consecutive values of n, starting with n=0."
   ]
  },
  {
   "cell_type": "markdown",
   "metadata": {},
   "source": [
    "## Solution"
   ]
  },
  {
   "cell_type": "code",
   "execution_count": 1,
   "metadata": {},
   "outputs": [
    {
     "name": "stdout",
     "output_type": "stream",
     "text": [
      "-59231\n"
     ]
    }
   ],
   "source": [
    "def prime(m=0):\n",
    "    if m > 2:\n",
    "        yield 2\n",
    "    if m > 3:\n",
    "        yield 3\n",
    "    p, n, q = 5, 3, 9\n",
    "    while (not m) or (p < m):\n",
    "        if  all(p % x for x in range(3, n+1, 2)):\n",
    "            yield p\n",
    "        p += 2\n",
    "        while p>q:\n",
    "            q += n\n",
    "            n += 1\n",
    "            q += n\n",
    "\n",
    "ptable = list(prime(1000))\n",
    "            \n",
    "def isprime(n):\n",
    "    if n <= ptable[-1]:\n",
    "        return n in ptable\n",
    "    q = int(n ** 0.5) + 1\n",
    "    for x in ptable:\n",
    "        if n % x == 0:\n",
    "            return False\n",
    "        if x > q:\n",
    "            return True\n",
    "    if q>ptable[-1]:\n",
    "        for x in range(ptable[-1],q,2):\n",
    "            if n % x == 0:\n",
    "                return False\n",
    "    return True\n",
    "\n",
    "def qlen(a,b):\n",
    "    x, n = b, 0\n",
    "    while isprime(x):\n",
    "        n += 1\n",
    "        x = n * n + a * n + b\n",
    "    return n\n",
    "\n",
    "maxlen = 0\n",
    "ab = 0\n",
    "for b in ptable[1:]:\n",
    "    for a in range(2-b,1000,2):\n",
    "        ql = qlen(a, b)\n",
    "        if maxlen < ql:\n",
    "            maxlen = ql\n",
    "            ab = a * b\n",
    "print(ab)\n",
    "            \n",
    "\n",
    "\n",
    "\n"
   ]
  }
 ],
 "metadata": {
  "kernelspec": {
   "display_name": "Python 3",
   "language": "python",
   "name": "python3"
  },
  "language_info": {
   "codemirror_mode": {
    "name": "ipython",
    "version": 3
   },
   "file_extension": ".py",
   "mimetype": "text/x-python",
   "name": "python",
   "nbconvert_exporter": "python",
   "pygments_lexer": "ipython3",
   "version": "3.7.3"
  }
 },
 "nbformat": 4,
 "nbformat_minor": 2
}
