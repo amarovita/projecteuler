{
 "cells": [
  {
   "cell_type": "markdown",
   "metadata": {},
   "source": [
    "# Roman numerals\n",
    "## [Problem 1](https://projecteuler.net/problem=89)\n"
   ]
  },
  {
   "cell_type": "markdown",
   "metadata": {},
   "source": [
    "\n",
    "\n",
    "For a number written in Roman numerals to be considered valid there are basic rules which must be followed. Even though the rules allow some numbers to be expressed in more than one way there is always a \"best\" way of writing a particular number.\n",
    "\n",
    "For example, it would appear that there are at least six ways of writing the number sixteen:\n",
    "\n",
    "> IIIIIIIIIIIIIIII  \n",
    "> VIIIIIIIIIII  \n",
    "> VVIIIIII  \n",
    "> XIIIIII  \n",
    "> VVVI  \n",
    "> XVI\n",
    "\n",
    "However, according to the rules only XIIIIII and XVI are valid, and the last example is considered to be the most efficient, as it uses the least number of numerals.\n",
    "\n",
    "The 11K text file, [roman.txt](https://projecteuler.net/project/resources/p089_roman.txt) (right click and 'Save Link/Target As...'), contains one thousand numbers written in valid, but not necessarily minimal, Roman numerals; see [About... Roman Numerals](https://projecteuler.net/about=roman_numerals) for the definitive rules for this problem.\n",
    "\n",
    "Find the number of characters saved by writing each of these in their minimal form.\n",
    "\n",
    "Note: You can assume that all the Roman numerals in the file contain no more than four consecutive identical units.\n"
   ]
  },
  {
   "cell_type": "markdown",
   "metadata": {},
   "source": [
    "## Solution"
   ]
  },
  {
   "cell_type": "code",
   "execution_count": 21,
   "metadata": {},
   "outputs": [
    {
     "name": "stdout",
     "output_type": "stream",
     "text": [
      "743\n"
     ]
    }
   ],
   "source": [
    "FR = dict(zip('IVXLCDM', [1, 5, 10, 50, 100, 500, 1000]))\n",
    "TR=' I II III IV V VI VII VIII IX  X XX XXX XL L LX LXX LXXX XC  C CC CCC CD D DC DCC DCCC CM'.split(' ')\n",
    "\n",
    "\n",
    "def toRoman(n):\n",
    "    m = n // 1000\n",
    "    return ''.join([\n",
    "        'M' * m,\n",
    "        TR[n//100%10+20],\n",
    "        TR[n//10%10+10],\n",
    "        TR[n%10]        \n",
    "        ])    \n",
    "\n",
    "\n",
    "def fromRoman(num):\n",
    "    l = [0]\n",
    "    for x in num:\n",
    "        d = FR[x]\n",
    "        if l[-1] < d:\n",
    "            l[-1] = -l[-1]\n",
    "        l.append(d)\n",
    "    return sum(l)\n",
    "\n",
    "\n",
    "s = 0\n",
    "with open('p089_roman.txt') as f:\n",
    "    for r in f:\n",
    "        r = r.strip()\n",
    "        s += len(r) - len(toRoman(fromRoman(r)))\n",
    "print(s)"
   ]
  }
 ],
 "metadata": {
  "interpreter": {
   "hash": "916dbcbb3f70747c44a77c7bcd40155683ae19c65e1c03b4aa3499c5328201f1"
  },
  "kernelspec": {
   "display_name": "Python 3.9.7 64-bit",
   "name": "python3"
  },
  "language_info": {
   "codemirror_mode": {
    "name": "ipython",
    "version": 3
   },
   "file_extension": ".py",
   "mimetype": "text/x-python",
   "name": "python",
   "nbconvert_exporter": "python",
   "pygments_lexer": "ipython3",
   "version": "3.9.7"
  }
 },
 "nbformat": 4,
 "nbformat_minor": 2
}
