{
 "cells": [
  {
   "cell_type": "markdown",
   "metadata": {},
   "source": [
    "# Arranged probability\n",
    "## __[Problem 100](http://projecteuler.net/problem=100)__"
   ]
  },
  {
   "cell_type": "markdown",
   "metadata": {},
   "source": [
    "If a box contains twenty-one coloured discs, composed of fifteen blue discs and six red discs, and two discs were taken at random, it can be seen that the probability of taking two blue discs, P(BB) = (15/21)×(14/20) = 1/2.\n",
    "\n",
    "The next such arrangement, for which there is exactly 50% chance of taking two blue discs at random, is a box containing eighty-five blue discs and thirty-five red discs.\n",
    "\n",
    "By finding the first arrangement to contain over 10¹² = 1,000,000,000,000 discs in total, determine the number of blue discs that the box would contain.\n",
    "\n"
   ]
  },
  {
   "cell_type": "markdown",
   "metadata": {},
   "source": [
    "## Solution 1\n",
    "\n",
    "I have to use Decimal because of lot of false positives while i use doubles.\n",
    "And i know $n$ should start ftom 10¹², but it will too long to calculate. So i cheat. \n",
    "\n",
    "$t$, $b$ and $x$ formulas are result of solving some square equations."
   ]
  },
  {
   "cell_type": "code",
   "execution_count": 1,
   "metadata": {},
   "outputs": [
    {
     "name": "stdout",
     "output_type": "stream",
     "text": [
      " Blue: 756872327473\n",
      "Total: 1070379110497\n"
     ]
    }
   ],
   "source": [
    "from decimal import Decimal \n",
    "\n",
    "t = lambda x: ((2*x*x-1)**0.5+1)/2\n",
    "b = lambda t: ((2*t*t-2*t+1)**0.5+1)/2\n",
    "\n",
    "# n = 1_000_000_000_000\n",
    "n = 1_070_300_000_000\n",
    "x = int((2*n*(n-1)+1)**0.5)//2*2+1\n",
    "\n",
    "while True:\n",
    "    if t(x).is_integer():\n",
    "        total = round(t(x))\n",
    "        blue = round(b(t(x)))\n",
    "        check = Decimal(2.0)*Decimal(blue)*Decimal(blue-1)/Decimal(total)/Decimal(total-1)\n",
    "        if check == 1:\n",
    "            break\n",
    "    x += 2\n",
    "\n",
    "print(' Blue:', blue)\n",
    "print('Total:', total)\n",
    "    "
   ]
  },
  {
   "cell_type": "markdown",
   "metadata": {},
   "source": [
    "## Solution 2\n",
    "\n",
    "Almost analytical, but made with _\"little\"_ help of __[WoframAlfa](https://www.wolframalpha.com/)__. "
   ]
  },
  {
   "cell_type": "code",
   "execution_count": 2,
   "metadata": {},
   "outputs": [
    {
     "name": "stdout",
     "output_type": "stream",
     "text": [
      " Blue: 756872327473\n",
      "Total: 1070379110497\n"
     ]
    }
   ],
   "source": [
    "from math import sqrt\n",
    "\n",
    "def an(n):\n",
    "    b = (\n",
    "        2 * (3 - 2 * sqrt(2)) ** n + \n",
    "        sqrt(2) * (3 - 2 * sqrt(2)) ** n + \n",
    "        2 * (3 + 2 * sqrt(2)) ** n - \n",
    "        sqrt(2) * (3 + 2 * sqrt(2)) ** n + 4\n",
    "    )/8\n",
    "    t = (\n",
    "        -(3 - 2 * sqrt(2)) ** n - \n",
    "        sqrt(2) * (3 - 2 * sqrt(2)) ** n - \n",
    "        (3 + 2 * sqrt(2)) ** n + \n",
    "        sqrt(2) * (3 + 2 * sqrt(2)) ** n + 2\n",
    "    )/4\n",
    "    return b, t\n",
    "\n",
    "n = 1\n",
    "while True:\n",
    "    blue, total  = an(n)\n",
    "    if total > 1e12:\n",
    "        break\n",
    "    n += 1\n",
    "        \n",
    "print(' Blue:', round(blue))\n",
    "print('Total:', round(total))\n",
    "        "
   ]
  }
 ],
 "metadata": {
  "kernelspec": {
   "display_name": "Python 3",
   "language": "python",
   "name": "python3"
  },
  "language_info": {
   "codemirror_mode": {
    "name": "ipython",
    "version": 3
   },
   "file_extension": ".py",
   "mimetype": "text/x-python",
   "name": "python",
   "nbconvert_exporter": "python",
   "pygments_lexer": "ipython3",
   "version": "3.7.3"
  }
 },
 "nbformat": 4,
 "nbformat_minor": 2
}
