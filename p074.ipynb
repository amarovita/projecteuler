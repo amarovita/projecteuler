{
 "cells": [
  {
   "cell_type": "markdown",
   "metadata": {
    "ExecuteTime": {
     "end_time": "2019-06-11T19:59:30.757199Z",
     "start_time": "2019-06-11T19:59:29.528398Z"
    }
   },
   "source": [
    "# Digit factorial chains\n",
    "## __[Problem 74](http://projecteuler.net/problem=74)__"
   ]
  },
  {
   "cell_type": "markdown",
   "metadata": {},
   "source": [
    "\n",
    "The number 145 is well known for the property that the sum of the factorial of its digits is equal to 145:\n",
    "\n",
    "1! + 4! + 5! = 1 + 24 + 120 = 145\n",
    "\n",
    "Perhaps less well known is 169, in that it produces the longest chain of numbers that link back to 169; it turns out that there are only three such loops that exist:\n",
    "\n",
    "169 → 363601 → 1454 → 169\n",
    "871 → 45361 → 871\n",
    "872 → 45362 → 872\n",
    "\n",
    "It is not difficult to prove that EVERY starting number will eventually get stuck in a loop. For example,\n",
    "\n",
    "69 → 363600 → 1454 → 169 → 363601 (→ 1454)\n",
    "78 → 45360 → 871 → 45361 (→ 871)\n",
    "540 → 145 (→ 145)\n",
    "\n",
    "Starting with 69 produces a chain of five non-repeating terms, but the longest non-repeating chain with a starting number below one million is sixty terms.\n",
    "\n",
    "How many chains, with a starting number below one million, contain exactly sixty non-repeating terms?\n"
   ]
  },
  {
   "cell_type": "code",
   "execution_count": 1,
   "metadata": {
    "ExecuteTime": {
     "end_time": "2019-07-02T18:24:43.481727Z",
     "start_time": "2019-07-02T18:23:54.685186Z"
    }
   },
   "outputs": [
    {
     "name": "stdout",
     "output_type": "stream",
     "text": [
      ">>>        402 of     974322\n",
      "402\n"
     ]
    }
   ],
   "source": [
    "df = [1, 1, 2, 6, 24, 120, 720, 5040, 40320, 362880]\n",
    "\n",
    "def dfsum(n):\n",
    "    s = 0\n",
    "    while n:\n",
    "        s += df[n % 10]\n",
    "        n //= 10\n",
    "    return s\n",
    "\n",
    "total = 0\n",
    "for x in range(1, 1000000):\n",
    "    n, l = x, []\n",
    "    while n not in l:\n",
    "        l.append(n)\n",
    "        n = dfsum(n)\n",
    "    if len(l) == 60:\n",
    "        total += 1\n",
    "        print('>>> %10d of %10d' % (total, x), end='\\r')\n",
    "\n",
    "print()\n",
    "print(total)\n",
    "    "
   ]
  }
 ],
 "metadata": {
  "hide_input": false,
  "kernelspec": {
   "display_name": "Python 3",
   "language": "python",
   "name": "python3"
  },
  "language_info": {
   "codemirror_mode": {
    "name": "ipython",
    "version": 3
   },
   "file_extension": ".py",
   "mimetype": "text/x-python",
   "name": "python",
   "nbconvert_exporter": "python",
   "pygments_lexer": "ipython3",
   "version": "3.7.3"
  },
  "toc": {
   "base_numbering": 1,
   "nav_menu": {},
   "number_sections": false,
   "sideBar": true,
   "skip_h1_title": false,
   "title_cell": "Table of Contents",
   "title_sidebar": "Contents",
   "toc_cell": false,
   "toc_position": {},
   "toc_section_display": true,
   "toc_window_display": false
  },
  "varInspector": {
   "cols": {
    "lenName": 16,
    "lenType": 16,
    "lenVar": 40
   },
   "kernels_config": {
    "python": {
     "delete_cmd_postfix": "",
     "delete_cmd_prefix": "del ",
     "library": "var_list.py",
     "varRefreshCmd": "print(var_dic_list())"
    },
    "r": {
     "delete_cmd_postfix": ") ",
     "delete_cmd_prefix": "rm(",
     "library": "var_list.r",
     "varRefreshCmd": "cat(var_dic_list()) "
    }
   },
   "position": {
    "height": "152.85px",
    "left": "878px",
    "right": "20px",
    "top": "120px",
    "width": "336.667px"
   },
   "types_to_exclude": [
    "module",
    "function",
    "builtin_function_or_method",
    "instance",
    "_Feature"
   ],
   "window_display": false
  }
 },
 "nbformat": 4,
 "nbformat_minor": 2
}
