{
 "cells": [
  {
   "cell_type": "markdown",
   "metadata": {},
   "source": [
    "# Totient permutation\n",
    "## __[Problem 70](http://projecteuler.net/problem=70)__"
   ]
  },
  {
   "cell_type": "markdown",
   "metadata": {},
   "source": [
    "\n",
    "Euler's Totient function, φ(n) [sometimes called the phi function], is used to determine the number of \n",
    "positive numbers less than or equal to n which are relatively prime to n. For example, as 1, 2, 4, 5, 7, and 8, are all less than nine and relatively prime to nine, φ(9)=6.\n",
    "The number 1 is considered to be relatively prime to every positive number, so φ(1)=1.\n",
    "\n",
    "Interestingly, φ(87109)=79180, and it can be seen that 87109 is a permutation of 79180.\n",
    "\n",
    "Find the value of n, 1 < n < 10⁷, for which φ(n) is a permutation of n and the ratio n/φ(n) produces a minimum.\n",
    "\n",
    "\n"
   ]
  },
  {
   "cell_type": "markdown",
   "metadata": {},
   "source": [
    "## Solution"
   ]
  },
  {
   "cell_type": "code",
   "execution_count": null,
   "metadata": {},
   "outputs": [],
   "source": [
    "def phi(n):\n",
    "    r = n > 1 and n\n",
    "    for m in range(2, 1 + int(n ** 0.5)):\n",
    "        if n % m == 0:\n",
    "            r = r * (m - 1) // m\n",
    "            while n % m == 0:\n",
    "                n //= m\n",
    "            if n == 1: break\n",
    "    return r * max(n - 1, 1) // n \n",
    "\n",
    "res = ratio = float('inf')\n",
    "for x in range(10**7, 1, -1):\n",
    "    z = phi(x) \n",
    "    nr = x / z\n",
    "    if nr < ratio:\n",
    "        if sorted(str(x)) == sorted(str(z)):\n",
    "            ratio = nr\n",
    "            res = x\n",
    "    if x % 100000 == 0:\n",
    "        print(f'>>>{x:10} {res:10}', end='\\r')\n",
    "print()\n",
    "print('Res: ', res)\n"
   ]
  },
  {
   "cell_type": "markdown",
   "metadata": {},
   "source": [
    "## Answer\n",
    "\n",
    "It took about 5 to 10 minutes with pypy.\n",
    "The answer was: \n",
    "    \n",
    "    8319823"
   ]
  }
 ],
 "metadata": {
  "kernelspec": {
   "display_name": "Python 3",
   "language": "python",
   "name": "python3"
  },
  "language_info": {
   "codemirror_mode": {
    "name": "ipython",
    "version": 3
   },
   "file_extension": ".py",
   "mimetype": "text/x-python",
   "name": "python",
   "nbconvert_exporter": "python",
   "pygments_lexer": "ipython3",
   "version": "3.7.3"
  }
 },
 "nbformat": 4,
 "nbformat_minor": 2
}
