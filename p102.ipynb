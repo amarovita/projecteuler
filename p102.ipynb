{
 "cells": [
  {
   "cell_type": "markdown",
   "metadata": {},
   "source": [
    "# Triangle containment\n",
    "## [Problem 102](https://projecteuler.net/problem=102)"
   ]
  },
  {
   "cell_type": "code",
   "execution_count": null,
   "metadata": {},
   "outputs": [],
   "source": []
  },
  {
   "cell_type": "markdown",
   "metadata": {},
   "source": [
    "\n",
    "\n",
    "Three distinct points are plotted at random on a Cartesian plane, for which -1000 ≤ x, y ≤ 1000, such that a triangle is formed.\n",
    "\n",
    "Consider the following two triangles:\n",
    "\n",
    "    A(-340,495), B(-153,-910), C(835,-947)\n",
    "    X(-175,41), Y(-421,-714), Z(574,-645)\n",
    "\n",
    "It can be verified that triangle ABC contains the origin, whereas triangle XYZ does not.\n",
    "\n",
    "Using [triangles.txt](https://projecteuler.net/project/resources/p102_triangles.txt) (right click and 'Save Link/Target As...'), a 27K text file containing the co-ordinates of one thousand \"random\" triangles, find the number of triangles for which the interior contains the origin.\n",
    "\n",
    "NOTE: The first two examples in the file represent the triangles in the example given above.\n"
   ]
  },
  {
   "cell_type": "markdown",
   "metadata": {},
   "source": [
    "## Solution"
   ]
  },
  {
   "cell_type": "code",
   "execution_count": 10,
   "metadata": {
    "tags": []
   },
   "outputs": [
    {
     "output_type": "stream",
     "name": "stdout",
     "text": [
      "228\n"
     ]
    }
   ],
   "source": [
    "data = [\n",
    "    list(map(float, x.strip().split(',')))\n",
    "    for x in open('p102_triangles.txt').readlines()\n",
    "]\n",
    "\n",
    "def isclose(a, b):\n",
    "    return abs(a-b) < 1e-7\n",
    "\n",
    "def product(a, b):\n",
    "    return a[0] * b[0] + a[1] * b[1]\n",
    "\n",
    "def module(a):\n",
    "    return (a[0] * a[0] + a[1] * a[1]) ** 0.5\n",
    "\n",
    "def cosine(a, b):\n",
    "    return product(a, b) / module(a) / module(b)\n",
    "\n",
    "def sine(a, b):\n",
    "    return (1 - cosine(a, b) ** 2) ** 0.5\n",
    "\n",
    "def sumangles(cl, sl):\n",
    "    c = cl[0]\n",
    "    s = sl[0]\n",
    "    for x, y in zip(cl[1:], sl[1:]):\n",
    "        c, s = c * x - s * y,  c * y + s * x\n",
    "    return c, s\n",
    "\n",
    "q = 0\n",
    "for t in data:\n",
    "    n = list(zip(t[0::2], t[1::2]))\n",
    "    e = list(zip(n, n[1:]+n[:1]))\n",
    "    c = [cosine(a, b) for a, b in e]\n",
    "    s = [sine(a, b) for a, b in e]\n",
    "    sc, ss = sumangles(c, s)\n",
    "    if isclose(sc, 1) and isclose(ss, 0):\n",
    "        q += 1\n",
    "print(q)\n"
   ]
  }
 ],
 "metadata": {
  "hide_input": false,
  "kernelspec": {
   "display_name": "Python 3",
   "language": "python",
   "name": "python3"
  },
  "language_info": {
   "codemirror_mode": {
    "name": "ipython",
    "version": 3
   },
   "file_extension": ".py",
   "mimetype": "text/x-python",
   "name": "python",
   "nbconvert_exporter": "python",
   "pygments_lexer": "ipython3",
   "version": "3.9.4"
  },
  "toc": {
   "base_numbering": 1,
   "nav_menu": {},
   "number_sections": false,
   "sideBar": true,
   "skip_h1_title": false,
   "title_cell": "Table of Contents",
   "title_sidebar": "Contents",
   "toc_cell": false,
   "toc_position": {},
   "toc_section_display": true,
   "toc_window_display": false
  },
  "varInspector": {
   "cols": {
    "lenName": 16,
    "lenType": 16,
    "lenVar": 40
   },
   "kernels_config": {
    "python": {
     "delete_cmd_postfix": "",
     "delete_cmd_prefix": "del ",
     "library": "var_list.py",
     "varRefreshCmd": "print(var_dic_list())"
    },
    "r": {
     "delete_cmd_postfix": ") ",
     "delete_cmd_prefix": "rm(",
     "library": "var_list.r",
     "varRefreshCmd": "cat(var_dic_list()) "
    }
   },
   "types_to_exclude": [
    "module",
    "function",
    "builtin_function_or_method",
    "instance",
    "_Feature"
   ],
   "window_display": false
  }
 },
 "nbformat": 4,
 "nbformat_minor": 2
}