{
 "cells": [
  {
   "cell_type": "markdown",
   "metadata": {},
   "source": [
    "# Totient maximum\n",
    "## [Problem 69](https://projecteuler.net/problem=69)"
   ]
  },
  {
   "cell_type": "markdown",
   "metadata": {},
   "source": [
    "\n",
    "Euler's Totient function, φ(n) [sometimes called the phi function], is used to determine the number of numbers less than n which are relatively prime to n. For example, as 1, 2, 4, 5, 7, and 8, are all less than nine and relatively prime to nine, φ(9)=6.\n",
    "\n",
    "n   |\tRelatively Prime |\tφ(n) | \tn/φ(n)\n",
    "----|------------------|-------|--------\n",
    "2 \t|1 \t|1 \t|2\n",
    "3 \t|1,2| \t|2 \t|1.5\n",
    "4 \t|1,3| \t|2 \t|2\n",
    "5 \t|1,2,3,4 \t|4 \t|1.25\n",
    "6 \t|1,5 \t|2 \t|3\n",
    "7 \t|1,2,3,4,5,6 \t|6 \t|1.1666...\n",
    "8 \t|1,3,5,7 \t|4 \t|2\n",
    "9 \t|1,2,4,5,7,8 \t|6 \t|1.5\n",
    "10 \t|1,3,7,9 \t|4 \t|2.5\n",
    "\n",
    "It can be seen that n=6 produces a maximum n/φ(n) for n ≤ 10.\n",
    "\n",
    "Find the value of n ≤ 1,000,000 for which n/φ(n) is a maximum.\n"
   ]
  },
  {
   "cell_type": "markdown",
   "metadata": {},
   "source": [
    "## Solution\n"
   ]
  },
  {
   "cell_type": "code",
   "execution_count": 1,
   "metadata": {
    "ExecuteTime": {
     "end_time": "2019-06-13T11:59:19.393481Z",
     "start_time": "2019-06-13T11:59:04.947433Z"
    }
   },
   "outputs": [
    {
     "name": "stdout",
     "output_type": "stream",
     "text": [
      "         6    3.00\n",
      "        12    3.00\n",
      "        18    3.00\n",
      "        10    2.50\n",
      "        14    2.33\n",
      "…\n",
      "       210    4.38\n",
      "       420    4.38\n",
      "       330    4.12\n",
      "       390    4.06\n",
      "       510    3.98\n",
      "…\n",
      "      2310    4.81\n",
      "      4620    4.81\n",
      "      6930    4.81\n",
      "…\n",
      "     30030    5.21\n",
      "     60060    5.21\n",
      "     90090    5.21\n",
      "…\n",
      "    510510    5.54\n",
      "    570570    5.50\n",
      "    690690    5.45\n",
      "…\n"
     ]
    }
   ],
   "source": [
    "from math import gcd\n",
    "\n",
    "def nf(n):\n",
    "    return n/sum(gcd(n, x) == 1 for x in range(1, n))\n",
    "\n",
    "def check(f, t, s, n):\n",
    "    for i in sorted(range(f, t, s), key=nf, reverse=True)[:n]:\n",
    "        print(\"%10d    %2.2f\" % (i,nf(i)))\n",
    "    print('…')\n",
    "\n",
    "check(2, 20, 1, 5)\n",
    "check(6, 600, 6, 5)\n",
    "check(210, 21000, 210, 3)\n",
    "check(2310, 231000, 2310, 3)\n",
    "check(30030, 1000001, 30030, 3)\n"
   ]
  }
 ],
 "metadata": {
  "hide_input": false,
  "kernelspec": {
   "display_name": "Python 3",
   "language": "python",
   "name": "python3"
  },
  "language_info": {
   "codemirror_mode": {
    "name": "ipython",
    "version": 3
   },
   "file_extension": ".py",
   "mimetype": "text/x-python",
   "name": "python",
   "nbconvert_exporter": "python",
   "pygments_lexer": "ipython3",
   "version": "3.7.3"
  },
  "toc": {
   "base_numbering": 1,
   "nav_menu": {},
   "number_sections": false,
   "sideBar": true,
   "skip_h1_title": false,
   "title_cell": "Table of Contents",
   "title_sidebar": "Contents",
   "toc_cell": false,
   "toc_position": {},
   "toc_section_display": true,
   "toc_window_display": false
  },
  "varInspector": {
   "cols": {
    "lenName": 16,
    "lenType": 16,
    "lenVar": 40
   },
   "kernels_config": {
    "python": {
     "delete_cmd_postfix": "",
     "delete_cmd_prefix": "del ",
     "library": "var_list.py",
     "varRefreshCmd": "print(var_dic_list())"
    },
    "r": {
     "delete_cmd_postfix": ") ",
     "delete_cmd_prefix": "rm(",
     "library": "var_list.r",
     "varRefreshCmd": "cat(var_dic_list()) "
    }
   },
   "position": {
    "height": "152.85px",
    "left": "878px",
    "right": "20px",
    "top": "120px",
    "width": "336.667px"
   },
   "types_to_exclude": [
    "module",
    "function",
    "builtin_function_or_method",
    "instance",
    "_Feature"
   ],
   "window_display": false
  }
 },
 "nbformat": 4,
 "nbformat_minor": 2
}
