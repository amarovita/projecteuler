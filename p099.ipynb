{
 "cells": [
  {
   "cell_type": "markdown",
   "metadata": {},
   "source": [
    "# Largest exponential\n",
    "## __[Problem 99](http://projecteuler.net/problem=99)__"
   ]
  },
  {
   "cell_type": "markdown",
   "metadata": {},
   "source": [
    "Comparing two numbers written in index form like $2^{11}$ and $3^{7}$ is not difficult, as any calculator would confirm that $2^{11} = 2048 < 3^{7} = 2187$.\n",
    "\n",
    "However, confirming that $632382^{518061} > 519432^{525806}$ would be much more difficult, as both numbers contain over three million digits.\n",
    "\n",
    "Using [base_exp.txt](p099_base_exp.txt) (right click and 'Save Link/Target As...'), a 22K text file containing one thousand lines with a base/exponent pair on each line, determine which line number has the greatest numerical value.\n",
    "\n",
    "_NOTE: The first two lines in the file represent the numbers in the example given above._\n"
   ]
  },
  {
   "cell_type": "markdown",
   "metadata": {},
   "source": [
    "## Solution"
   ]
  },
  {
   "cell_type": "code",
   "execution_count": 1,
   "metadata": {},
   "outputs": [
    {
     "name": "stdout",
     "output_type": "stream",
     "text": [
      "709\n"
     ]
    }
   ],
   "source": [
    "from math import log\n",
    "\n",
    "with open(\"p099_base_exp.txt\",\"r\") as f:\n",
    "    data = [(int(x), int(y)) for x, y in [l.split(',') for l in f.read().splitlines()]]\n",
    "\n",
    "base, exponent, line = 1, 0, 0\n",
    "\n",
    "for n, (a, b) in enumerate(data):\n",
    "    if b * log(a) > exponent * log(base):\n",
    "        line = n\n",
    "        base = a\n",
    "        exponent = b\n",
    "\n",
    "print(line + 1)\n"
   ]
  }
 ],
 "metadata": {
  "kernelspec": {
   "display_name": "Python 3",
   "language": "python",
   "name": "python3"
  },
  "language_info": {
   "codemirror_mode": {
    "name": "ipython",
    "version": 3
   },
   "file_extension": ".py",
   "mimetype": "text/x-python",
   "name": "python",
   "nbconvert_exporter": "python",
   "pygments_lexer": "ipython3",
   "version": "3.7.3"
  }
 },
 "nbformat": 4,
 "nbformat_minor": 2
}
