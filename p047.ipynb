{
 "cells": [
  {
   "cell_type": "markdown",
   "metadata": {},
   "source": [
    "# Distinct primes factors\n",
    "## [Problem 47](https://projecteuler.net/problem=47)"
   ]
  },
  {
   "cell_type": "markdown",
   "metadata": {},
   "source": [
    "The first two consecutive numbers to have two distinct prime factors are:\n",
    "\n",
    "    14 = 2 × 7\n",
    "    15 = 3 × 5\n",
    "\n",
    "The first three consecutive numbers to have three distinct prime factors are:\n",
    "\n",
    "    644 = 2² × 7 × 23\n",
    "    645 = 3 × 5 × 43\n",
    "    646 = 2 × 17 × 19\n",
    "\n",
    "Find the first four consecutive integers to have four distinct prime factors each. What is the first of these numbers?\n"
   ]
  },
  {
   "cell_type": "markdown",
   "metadata": {},
   "source": [
    "## Solution"
   ]
  },
  {
   "cell_type": "code",
   "execution_count": 1,
   "metadata": {
    "ExecuteTime": {
     "end_time": "2019-06-10T08:34:43.661268Z",
     "start_time": "2019-06-10T08:34:38.019469Z"
    }
   },
   "outputs": [
    {
     "name": "stdout",
     "output_type": "stream",
     "text": [
      "134043\n"
     ]
    }
   ],
   "source": [
    "from itertools import takewhile\n",
    "\n",
    "def get_primes(m):\n",
    "    t = [2, 3]\n",
    "    p, n, q, r = 5, 3, 9, 1\n",
    "    while (p < m):\n",
    "        if  all(p % x for x in t[:r]):\n",
    "            t.append(p)\n",
    "        p += 2\n",
    "        while p>q:\n",
    "            q += n\n",
    "            n += 1\n",
    "            q += n\n",
    "        while t[r-1]<n:\n",
    "            r += 1\n",
    "    return t\n",
    "\n",
    "primes = get_primes(1000000)\n",
    "\n",
    "def factors(n):\n",
    "    r = []\n",
    "    while n != 1:\n",
    "        for x in primes:\n",
    "            if n % x == 0:\n",
    "                r.append(x)\n",
    "                n = n // x\n",
    "                break\n",
    "    return r\n",
    "\n",
    "n = 100000  # I already tested all before\n",
    "while True:\n",
    "    if all(len(set(factors(n+x)))==4 for x in range(4)):\n",
    "        print(n)\n",
    "        break\n",
    "    n += 1\n"
   ]
  }
 ],
 "metadata": {
  "hide_input": false,
  "kernelspec": {
   "display_name": "Python 3",
   "language": "python",
   "name": "python3"
  },
  "language_info": {
   "codemirror_mode": {
    "name": "ipython",
    "version": 3
   },
   "file_extension": ".py",
   "mimetype": "text/x-python",
   "name": "python",
   "nbconvert_exporter": "python",
   "pygments_lexer": "ipython3",
   "version": "3.7.3"
  },
  "toc": {
   "base_numbering": 1,
   "nav_menu": {},
   "number_sections": false,
   "sideBar": true,
   "skip_h1_title": false,
   "title_cell": "Table of Contents",
   "title_sidebar": "Contents",
   "toc_cell": false,
   "toc_position": {},
   "toc_section_display": true,
   "toc_window_display": false
  },
  "varInspector": {
   "cols": {
    "lenName": 16,
    "lenType": 16,
    "lenVar": 40
   },
   "kernels_config": {
    "python": {
     "delete_cmd_postfix": "",
     "delete_cmd_prefix": "del ",
     "library": "var_list.py",
     "varRefreshCmd": "print(var_dic_list())"
    },
    "r": {
     "delete_cmd_postfix": ") ",
     "delete_cmd_prefix": "rm(",
     "library": "var_list.r",
     "varRefreshCmd": "cat(var_dic_list()) "
    }
   },
   "position": {
    "height": "152.85px",
    "left": "878px",
    "right": "20px",
    "top": "120px",
    "width": "336.667px"
   },
   "types_to_exclude": [
    "module",
    "function",
    "builtin_function_or_method",
    "instance",
    "_Feature"
   ],
   "window_display": false
  }
 },
 "nbformat": 4,
 "nbformat_minor": 2
}
