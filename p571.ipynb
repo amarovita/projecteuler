{
 "cells": [
  {
   "cell_type": "markdown",
   "metadata": {
    "ExecuteTime": {
     "end_time": "2019-06-11T19:59:30.757199Z",
     "start_time": "2019-06-11T19:59:29.528398Z"
    }
   },
   "source": [
    "# Super Pandigital Numbers\n",
    "## __[Problem 571](http://projecteuler.net/problem=571)__"
   ]
  },
  {
   "cell_type": "markdown",
   "metadata": {},
   "source": [
    "A positive number is pandigital in base b if it contains all digits from 0 to b - 1 at least once when written in base b.\n",
    "\n",
    "A n-super-pandigital number is a number that is simultaneously pandigital in all bases from 2 to n inclusively.\n",
    "For example 978 = 1111010010₂ = 1100020₃ = 33102₄ = 12403₅ is the smallest 5-super-pandigital number.\n",
    "Similarly, 1093265784 is the smallest 10-super-pandigital number.\n",
    "The sum of the 10 smallest 10-super-pandigital numbers is 20319792309.\n",
    "\n",
    "What is the sum of the 10 smallest 12-super-pandigital numbers?\n"
   ]
  },
  {
   "cell_type": "code",
   "execution_count": null,
   "metadata": {
    "ExecuteTime": {
     "end_time": "2019-06-18T07:32:51.313871Z",
     "start_time": "2019-06-18T07:32:47.295741Z"
    }
   },
   "outputs": [],
   "source": [
    "from itertools import permutations\n",
    "\n",
    "msp = int('1023456789AB', 12)\n",
    "\n",
    "def isp(x, b):\n",
    "    n = set()\n",
    "    while x:\n",
    "        n.add(x % b)\n",
    "        x //= b\n",
    "    return len(n) == b\n",
    "\n",
    "total = cnt = 0\n",
    "\n",
    "d12 = '0123456789AB'\n",
    "\n",
    "c = 0\n",
    "\n",
    "for k in permutations(d12):\n",
    "    if k[0] == '0':\n",
    "        continue\n",
    "    c += 1\n",
    "    z = ''.join(k)\n",
    "    if c % 1000 == 0:\n",
    "        print('>>> ', z, end='\\r')\n",
    "    z = int(z, 12)\n",
    "    if all(isp(z, x) for x in range(11,1,-1)):\n",
    "        total += z\n",
    "        cnt += 1\n",
    "        print('\\n', z, cnt, total)\n",
    "        if cnt == 10: break\n"
   ]
  },
  {
   "cell_type": "markdown",
   "metadata": {},
   "source": [
    "## Answer\n",
    "It's works fast enough for n = 10, but slow for n = 12. So i ran pypy and the anser was:\n",
    "\n",
    "    >>>  2179046BA853\n",
    "     1587937206284 1 1587937206284\n",
    "    >>>  23071856A9B4\n",
    "     1674839888205 2 3262777094489\n",
    "    >>>  36752B4910A8\n",
    "     2638904175622 3 5901681270111\n",
    "    >>>  3940175A62B8\n",
    "     2806980157234 4 8708661427345\n",
    "    >>>  395B410862A7\n",
    "     2816957039424 5 11525618466769\n",
    "    >>>  4586AB217390\n",
    "     3325871906940 6 14851490373709\n",
    "    >>>  524837BA9610\n",
    "     3863090145827 7 18714580519536\n",
    "    >>>  5318A42B9760\n",
    "     3909765781284 8 22624346300820\n",
    "    >>>  5348A92710B6\n",
    "     3925260871994 9 26549607172814\n",
    "    >>>  53B7624198A0\n",
    "     3960783529164 10 30510390701978"
   ]
  }
 ],
 "metadata": {
  "hide_input": false,
  "kernelspec": {
   "display_name": "Python 3",
   "language": "python",
   "name": "python3"
  },
  "language_info": {
   "codemirror_mode": {
    "name": "ipython",
    "version": 3
   },
   "file_extension": ".py",
   "mimetype": "text/x-python",
   "name": "python",
   "nbconvert_exporter": "python",
   "pygments_lexer": "ipython3",
   "version": "3.7.3"
  },
  "toc": {
   "base_numbering": 1,
   "nav_menu": {},
   "number_sections": false,
   "sideBar": true,
   "skip_h1_title": false,
   "title_cell": "Table of Contents",
   "title_sidebar": "Contents",
   "toc_cell": false,
   "toc_position": {},
   "toc_section_display": true,
   "toc_window_display": false
  },
  "varInspector": {
   "cols": {
    "lenName": 16,
    "lenType": 16,
    "lenVar": 40
   },
   "kernels_config": {
    "python": {
     "delete_cmd_postfix": "",
     "delete_cmd_prefix": "del ",
     "library": "var_list.py",
     "varRefreshCmd": "print(var_dic_list())"
    },
    "r": {
     "delete_cmd_postfix": ") ",
     "delete_cmd_prefix": "rm(",
     "library": "var_list.r",
     "varRefreshCmd": "cat(var_dic_list()) "
    }
   },
   "position": {
    "height": "152.85px",
    "left": "878px",
    "right": "20px",
    "top": "120px",
    "width": "336.667px"
   },
   "types_to_exclude": [
    "module",
    "function",
    "builtin_function_or_method",
    "instance",
    "_Feature"
   ],
   "window_display": false
  }
 },
 "nbformat": 4,
 "nbformat_minor": 2
}
