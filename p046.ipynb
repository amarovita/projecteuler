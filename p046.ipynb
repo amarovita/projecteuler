{
 "cells": [
  {
   "cell_type": "markdown",
   "metadata": {},
   "source": [
    "# Goldbach's other conjecture\n",
    "## [Problem 46](https://projecteuler.net/problem=46)"
   ]
  },
  {
   "cell_type": "markdown",
   "metadata": {},
   "source": [
    "It was proposed by Christian Goldbach that every odd composite number can be written as the sum of a prime and twice a square.\n",
    "\n",
    "$$9 = 7 + 2×1^2\\\\\n",
    "15 = 7 + 2×2^2\\\\\n",
    "21 = 3 + 2×3^2\\\\\n",
    "25 = 7 + 2×3^2\\\\\n",
    "27 = 19 + 2×2^2\\\\\n",
    "33 = 31 + 2×1^2$$\n",
    "\n",
    "It turns out that the conjecture was false.\n",
    "\n",
    "What is the smallest odd composite that cannot be written as the sum of a prime and twice a square?\n"
   ]
  },
  {
   "cell_type": "markdown",
   "metadata": {},
   "source": [
    "## Solution"
   ]
  },
  {
   "cell_type": "code",
   "execution_count": 1,
   "metadata": {
    "ExecuteTime": {
     "end_time": "2019-06-10T11:22:40.837665Z",
     "start_time": "2019-06-10T11:22:31.015656Z"
    }
   },
   "outputs": [
    {
     "name": "stdout",
     "output_type": "stream",
     "text": [
      "5777\n"
     ]
    }
   ],
   "source": [
    "def get_primes(m):\n",
    "    t = [2, 3]\n",
    "    p, n, q, r = 5, 3, 9, 1\n",
    "    while (p < m):\n",
    "        if  all(p % x for x in t[:r]):\n",
    "            t.append(p)\n",
    "        p += 2\n",
    "        while p>q:\n",
    "            q += n\n",
    "            n += 1\n",
    "            q += n\n",
    "        while t[r-1]<n:\n",
    "            r += 1\n",
    "    return t\n",
    "\n",
    "primes = get_primes(1000000)\n",
    "\n",
    "for x in range(9, 1000000, 2):\n",
    "    if x in primes:\n",
    "        continue\n",
    "    if all((x - 2 * y * y) not in primes for y in range(1 + int((x / 2) ** 0.5))):\n",
    "        print(x)\n",
    "        break\n"
   ]
  }
 ],
 "metadata": {
  "hide_input": false,
  "kernelspec": {
   "display_name": "Python 3",
   "language": "python",
   "name": "python3"
  },
  "language_info": {
   "codemirror_mode": {
    "name": "ipython",
    "version": 3
   },
   "file_extension": ".py",
   "mimetype": "text/x-python",
   "name": "python",
   "nbconvert_exporter": "python",
   "pygments_lexer": "ipython3",
   "version": "3.7.3"
  },
  "toc": {
   "base_numbering": 1,
   "nav_menu": {},
   "number_sections": false,
   "sideBar": true,
   "skip_h1_title": false,
   "title_cell": "Table of Contents",
   "title_sidebar": "Contents",
   "toc_cell": false,
   "toc_position": {},
   "toc_section_display": true,
   "toc_window_display": false
  },
  "varInspector": {
   "cols": {
    "lenName": 16,
    "lenType": 16,
    "lenVar": 40
   },
   "kernels_config": {
    "python": {
     "delete_cmd_postfix": "",
     "delete_cmd_prefix": "del ",
     "library": "var_list.py",
     "varRefreshCmd": "print(var_dic_list())"
    },
    "r": {
     "delete_cmd_postfix": ") ",
     "delete_cmd_prefix": "rm(",
     "library": "var_list.r",
     "varRefreshCmd": "cat(var_dic_list()) "
    }
   },
   "position": {
    "height": "152.85px",
    "left": "878px",
    "right": "20px",
    "top": "120px",
    "width": "336.667px"
   },
   "types_to_exclude": [
    "module",
    "function",
    "builtin_function_or_method",
    "instance",
    "_Feature"
   ],
   "window_display": false
  }
 },
 "nbformat": 4,
 "nbformat_minor": 2
}
