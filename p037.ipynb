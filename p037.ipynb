{
 "cells": [
  {
   "cell_type": "markdown",
   "metadata": {},
   "source": [
    "# Truncatable primes\n",
    "## [Problem 37](https://projecteuler.net/problem=37)\n"
   ]
  },
  {
   "cell_type": "markdown",
   "metadata": {},
   "source": [
    "The number 3797 has an interesting property. Being prime itself, it is possible to continuously remove digits from left to right, and remain prime at each stage: 3797, 797, 97, and 7. Similarly we can work from right to left: 3797, 379, 37, and 3.\n",
    "\n",
    "Find the sum of the only eleven primes that are both truncatable from left to right and right to left.\n",
    "\n",
    "NOTE: 2, 3, 5, and 7 are not considered to be truncatable primes."
   ]
  },
  {
   "cell_type": "markdown",
   "metadata": {},
   "source": [
    "## Solution"
   ]
  },
  {
   "cell_type": "code",
   "execution_count": 1,
   "metadata": {
    "ExecuteTime": {
     "end_time": "2019-06-08T08:40:06.544896Z",
     "start_time": "2019-06-08T08:39:44.482126Z"
    }
   },
   "outputs": [
    {
     "name": "stdout",
     "output_type": "stream",
     "text": [
      "748317\n"
     ]
    }
   ],
   "source": [
    "ptable = [2, 3]\n",
    "\n",
    "def prime(m=0):\n",
    "    if m > 2:\n",
    "        yield 2\n",
    "    if m > 3:\n",
    "        yield 3\n",
    "    p, n, q = 5, 3, 9\n",
    "    while (not m) or (p < m):\n",
    "        if  all(p % x for x in range(3, n+1, 2)):\n",
    "            ptable.append(p)\n",
    "            yield p\n",
    "        p += 2\n",
    "        while p>q:\n",
    "            q += n\n",
    "            n += 1\n",
    "            q += n\n",
    "\n",
    "def isprime(n):\n",
    "    if n <= ptable[-1]:\n",
    "        return n in ptable\n",
    "    q = int(n ** 0.5) + 1\n",
    "    for x in ptable:\n",
    "        if n % x == 0:\n",
    "            return False\n",
    "        if x > q:\n",
    "            return True\n",
    "    if q>ptable[-1]:\n",
    "        for x in range(ptable[-1],q,2):\n",
    "            if n % x == 0:\n",
    "                return False\n",
    "    return True\n",
    "\n",
    "x = prime()\n",
    "while next(x)<11:\n",
    "    pass\n",
    "\n",
    "lst = []\n",
    "while len(lst)<11:\n",
    "    n = next(x)\n",
    "    l, r = str(n)[:-1], str(n)[1:]\n",
    "    while l:\n",
    "        if not(isprime(int(l))) or not(isprime(int(r))):\n",
    "            break\n",
    "        l, r = l[:-1], r[1:]\n",
    "    else:\n",
    "        lst.append(n)\n",
    "print(sum(lst))"
   ]
  }
 ],
 "metadata": {
  "kernelspec": {
   "display_name": "Python 3",
   "language": "python",
   "name": "python3"
  },
  "language_info": {
   "codemirror_mode": {
    "name": "ipython",
    "version": 3
   },
   "file_extension": ".py",
   "mimetype": "text/x-python",
   "name": "python",
   "nbconvert_exporter": "python",
   "pygments_lexer": "ipython3",
   "version": "3.7.3"
  },
  "varInspector": {
   "cols": {
    "lenName": 16,
    "lenType": 16,
    "lenVar": 40
   },
   "kernels_config": {
    "python": {
     "delete_cmd_postfix": "",
     "delete_cmd_prefix": "del ",
     "library": "var_list.py",
     "varRefreshCmd": "print(var_dic_list())"
    },
    "r": {
     "delete_cmd_postfix": ") ",
     "delete_cmd_prefix": "rm(",
     "library": "var_list.r",
     "varRefreshCmd": "cat(var_dic_list()) "
    }
   },
   "position": {
    "height": "152.85px",
    "left": "878px",
    "right": "20px",
    "top": "120px",
    "width": "336.667px"
   },
   "types_to_exclude": [
    "module",
    "function",
    "builtin_function_or_method",
    "instance",
    "_Feature"
   ],
   "window_display": false
  }
 },
 "nbformat": 4,
 "nbformat_minor": 2
}
