{
 "cells": [
  {
   "cell_type": "markdown",
   "metadata": {},
   "source": [
    "# Number letter counts\n",
    "## Problem 17"
   ]
  },
  {
   "cell_type": "markdown",
   "metadata": {},
   "source": [
    "If the numbers 1 to 5 are written out in words: one, two, three, four, five, then there are 3 + 3 + 5 + 4 + 4 = 19 letters used in total.\n",
    "\n",
    "If all the numbers from 1 to 1000 (one thousand) inclusive were written out in words, how many letters would be used?\n",
    "\n",
    "NOTE: Do not count spaces or hyphens. For example, 342 (three hundred and forty-two) contains 23 letters and 115 (one hundred and fifteen) contains 20 letters. The use of \"and\" when writing out numbers is in compliance with British usage.\n",
    "\n"
   ]
  },
  {
   "cell_type": "markdown",
   "metadata": {},
   "source": [
    "## Solution"
   ]
  },
  {
   "cell_type": "code",
   "execution_count": 1,
   "metadata": {},
   "outputs": [
    {
     "name": "stdout",
     "output_type": "stream",
     "text": [
      "21124\n"
     ]
    }
   ],
   "source": [
    "ones = (0, 3, 3, 5, 4, 4, 3, 5, 5, 4, 3, 6, 6, 8, 8, 7, 7, 9, 8, 8)\n",
    "tens = (0, 0, 6, 6, 5, 5, 5, 7, 6, 6)\n",
    "hundred = (0, 7)\n",
    "thousand = (0, 8)\n",
    "und = (0, 3)\n",
    "\n",
    "def letters(n):\n",
    "    s, h, t, o = n // 1000, (n % 1000) // 100, (n % 100) // 10, n % 10\n",
    "    if t == 1:\n",
    "        o += 10\n",
    "    return (\n",
    "        ones[s] +\n",
    "        thousand[s != 0] +\n",
    "        ones[h] +\n",
    "        hundred[h != 0] +\n",
    "        und[(h and (o or t)) != 0] +\n",
    "        tens[t] +\n",
    "        ones[o]\n",
    "    )\n",
    "  \n",
    "print(sum(letters(x) for x in range(1,1001)))"
   ]
  }
 ],
 "metadata": {
  "kernelspec": {
   "display_name": "Python 3",
   "language": "python",
   "name": "python3"
  },
  "language_info": {
   "codemirror_mode": {
    "name": "ipython",
    "version": 3
   },
   "file_extension": ".py",
   "mimetype": "text/x-python",
   "name": "python",
   "nbconvert_exporter": "python",
   "pygments_lexer": "ipython3",
   "version": "3.7.3"
  }
 },
 "nbformat": 4,
 "nbformat_minor": 2
}
