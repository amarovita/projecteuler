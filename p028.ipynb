{
 "cells": [
  {
   "cell_type": "markdown",
   "metadata": {},
   "source": [
    "# Number spiral diagonals\n",
    "## __[Problem 28](http://projecteuler.net/problem=028)__"
   ]
  },
  {
   "cell_type": "markdown",
   "metadata": {},
   "source": [
    "Starting with the number 1 and moving to the right in a clockwise direction a 5 by 5 spiral is formed as follows:\n",
    "\n",
    "<p style=\"text-align:center;font-family:'monospace';\"><span style=\"color:red;\"><b>21</b></span> 22 23 24 <span style=\"color:red;\"><b>25</b></span><br />\n",
    "20  <span style=\"color:red;\"><b>&nbsp;7</b></span>  &nbsp;8  <span style=\"color:red;\"><b>&nbsp;9</b></span> 10<br />\n",
    "19  &nbsp;6  <span style=\"color:red;\"><b>&nbsp;1</b></span>  &nbsp;2 11<br />\n",
    "18  <span style=\"color:red;\"><b>&nbsp;5</b></span>  &nbsp;4  <span style=\"color:red;\"><b>&nbsp;3</b></span> 12<br /><span style=\"color:red;\"><b>17</b></span> 16 15 14 <span style=\"color:red;\"><b>13</b></span></p>\n",
    "\n",
    "It can be verified that the sum of the numbers on the diagonals is 101.\n",
    "\n",
    "What is the sum of the numbers on the diagonals in a 1001 by 1001 spiral formed in the same way?"
   ]
  },
  {
   "cell_type": "markdown",
   "metadata": {},
   "source": [
    "## Solution"
   ]
  },
  {
   "cell_type": "code",
   "execution_count": 1,
   "metadata": {},
   "outputs": [
    {
     "name": "stdout",
     "output_type": "stream",
     "text": [
      "669171001\n"
     ]
    }
   ],
   "source": [
    "def spiral(x=None):\n",
    "    n = z = 1\n",
    "    yield z\n",
    "    while (x is None) or (n < x):\n",
    "        n += 1\n",
    "        for _ in range(4):\n",
    "            z += n\n",
    "            yield z\n",
    "        n += 1\n",
    "        \n",
    "print(sum(spiral(1001)))"
   ]
  }
 ],
 "metadata": {
  "kernelspec": {
   "display_name": "Python 3",
   "language": "python",
   "name": "python3"
  },
  "language_info": {
   "codemirror_mode": {
    "name": "ipython",
    "version": 3
   },
   "file_extension": ".py",
   "mimetype": "text/x-python",
   "name": "python",
   "nbconvert_exporter": "python",
   "pygments_lexer": "ipython3",
   "version": "3.7.3"
  }
 },
 "nbformat": 4,
 "nbformat_minor": 2
}
