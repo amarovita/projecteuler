{
 "cells": [
  {
   "cell_type": "markdown",
   "metadata": {},
   "source": [
    "# 1000-digit Fibonacci number\n",
    "## Problem 25"
   ]
  },
  {
   "cell_type": "markdown",
   "metadata": {},
   "source": [
    "The Fibonacci sequence is defined by the recurrence relation:\n",
    "<center>\n",
    "$F_n = F_{n−1} + F_{n−2}, where  F_1 = 1  and  F_2 = 1.$\n",
    "</center>\n",
    "\n",
    "Hence the first 12 terms will be:\n",
    "\n",
    "<center>\n",
    "$F_1 = 1\\\\\n",
    " F_2 = 1\\\\\n",
    " F_3 = 2\\\\\n",
    "    F_4 = 3\\\\\n",
    "    F_5 = 5\\\\\n",
    "    F_6 = 8\\\\\n",
    "    F_7 = 13\\\\\n",
    "    F_8 = 21\\\\\n",
    "    F_9 = 34\\\\\n",
    "    F_{10} = 55\\\\\n",
    "    F_{11} = 89\\\\\n",
    "    F_{12} = 144$\n",
    "</center>\n",
    "\n",
    "The 12th term, $F_{12}$, is the first term to contain three digits.\n",
    "\n",
    "What is the index of the first term in the Fibonacci sequence to contain 1000 digits?"
   ]
  },
  {
   "cell_type": "markdown",
   "metadata": {},
   "source": [
    "## Solution"
   ]
  },
  {
   "cell_type": "code",
   "execution_count": 1,
   "metadata": {},
   "outputs": [
    {
     "name": "stdout",
     "output_type": "stream",
     "text": [
      "4782\n"
     ]
    }
   ],
   "source": [
    "a, b, n =  1, 1, 2\n",
    "while len(str(b)) < 1000:\n",
    "    a, b, n = b, a + b, n + 1\n",
    "print(n)"
   ]
  }
 ],
 "metadata": {
  "kernelspec": {
   "display_name": "Python 3",
   "language": "python",
   "name": "python3"
  },
  "language_info": {
   "codemirror_mode": {
    "name": "ipython",
    "version": 3
   },
   "file_extension": ".py",
   "mimetype": "text/x-python",
   "name": "python",
   "nbconvert_exporter": "python",
   "pygments_lexer": "ipython3",
   "version": "3.7.3"
  }
 },
 "nbformat": 4,
 "nbformat_minor": 2
}
