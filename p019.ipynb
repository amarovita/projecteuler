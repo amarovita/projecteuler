{
 "cells": [
  {
   "cell_type": "markdown",
   "metadata": {},
   "source": [
    "# Counting Sundays\n",
    "## [Problem 19](https://projecteuler.net/problem=19)"
   ]
  },
  {
   "cell_type": "markdown",
   "metadata": {},
   "source": [
    "You are given the following information, but you may prefer to do some research for yourself.\n",
    "\n",
    "*    1 Jan 1900 was a Monday.\n",
    "*    Thirty days has September,\n",
    "    April, June and November.\n",
    "*    All the rest have thirty-one,\n",
    "*    Saving February alone,\n",
    "    Which has twenty-eight, rain or shine.\n",
    "    And on leap years, twenty-nine.\n",
    "*    A leap year occurs on any year evenly divisible by 4, but not on a century unless it is divisible by 400.\n",
    "\n",
    "How many Sundays fell on the first of the month during the twentieth century (1 Jan 1901 to 31 Dec 2000)?\n"
   ]
  },
  {
   "cell_type": "markdown",
   "metadata": {},
   "source": [
    "## Solution"
   ]
  },
  {
   "cell_type": "code",
   "execution_count": 1,
   "metadata": {
    "ExecuteTime": {
     "end_time": "2019-06-10T19:05:48.480370Z",
     "start_time": "2019-06-10T19:05:48.466931Z"
    }
   },
   "outputs": [
    {
     "name": "stdout",
     "output_type": "stream",
     "text": [
      "171\n"
     ]
    }
   ],
   "source": [
    "M = [[31, 31, 28, 31, 30, 31, 30, 31, 31, 30, 31, 30],\n",
    "     [31, 31, 29, 31, 30, 31, 30, 31, 31, 30, 31, 30]]\n",
    "\n",
    "leap = lambda y: y % 100 == 0 and y % 400 == 0 or y % 100 and y % 4 == 0\n",
    "\n",
    "wd, total = 5, 0  # count wd in mind, 1 dec 1900\n",
    "\n",
    "for year in range(1901, 2001):\n",
    "    ly = leap(year)\n",
    "    for month in range(12):\n",
    "        wd = (wd + M[ly][month]) % 7\n",
    "        # print(year, month, wd)\n",
    "        if wd == 6:\n",
    "            total += 1\n",
    "print(total)"
   ]
  }
 ],
 "metadata": {
  "hide_input": false,
  "kernelspec": {
   "display_name": "Python 3",
   "language": "python",
   "name": "python3"
  },
  "language_info": {
   "codemirror_mode": {
    "name": "ipython",
    "version": 3
   },
   "file_extension": ".py",
   "mimetype": "text/x-python",
   "name": "python",
   "nbconvert_exporter": "python",
   "pygments_lexer": "ipython3",
   "version": "3.7.3"
  },
  "toc": {
   "base_numbering": 1,
   "nav_menu": {},
   "number_sections": false,
   "sideBar": true,
   "skip_h1_title": false,
   "title_cell": "Table of Contents",
   "title_sidebar": "Contents",
   "toc_cell": false,
   "toc_position": {},
   "toc_section_display": true,
   "toc_window_display": false
  },
  "varInspector": {
   "cols": {
    "lenName": 16,
    "lenType": 16,
    "lenVar": 40
   },
   "kernels_config": {
    "python": {
     "delete_cmd_postfix": "",
     "delete_cmd_prefix": "del ",
     "library": "var_list.py",
     "varRefreshCmd": "print(var_dic_list())"
    },
    "r": {
     "delete_cmd_postfix": ") ",
     "delete_cmd_prefix": "rm(",
     "library": "var_list.r",
     "varRefreshCmd": "cat(var_dic_list()) "
    }
   },
   "position": {
    "height": "152.85px",
    "left": "878px",
    "right": "20px",
    "top": "120px",
    "width": "336.667px"
   },
   "types_to_exclude": [
    "module",
    "function",
    "builtin_function_or_method",
    "instance",
    "_Feature"
   ],
   "window_display": false
  }
 },
 "nbformat": 4,
 "nbformat_minor": 2
}
