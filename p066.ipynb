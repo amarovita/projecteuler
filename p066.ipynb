{
 "cells": [
  {
   "cell_type": "markdown",
   "metadata": {},
   "source": [
    "# Diophantine equation\n",
    "## [Problem 66](https://projecteuler.net/problem=66)"
   ]
  },
  {
   "cell_type": "markdown",
   "metadata": {},
   "source": [
    "Consider quadratic Diophantine equations of the form:\n",
    "\n",
    "$$x^2 – Dy^2 = 1$$\n",
    "\n",
    "For example, when D=13, the minimal solution in x is $649^2 – 13×180^2 = 1$.\n",
    "\n",
    "It can be assumed that there are no solutions in positive integers when D is square.\n",
    "\n",
    "By finding minimal solutions in x for D = {2, 3, 5, 6, 7}, we obtain the following:\n",
    "\n",
    "$$3^2 – 2×2^2 = 1\\\\\n",
    "2^2 – 3×1^2 = 1\\\\\n",
    "9^2 – 5×4^2 = 1\\\\ \n",
    "5^2 – 6×2^2 = 1\\\\\n",
    "8^2 – 7×3^2 = 1$$\n",
    "\n",
    "Hence, by considering minimal solutions in x for D ≤ 7, the largest x is obtained when D=5.\n",
    "\n",
    "Find the value of D ≤ 1000 in minimal solutions of x for which the largest value of x is obtained.\n"
   ]
  },
  {
   "cell_type": "markdown",
   "metadata": {},
   "source": [
    "## Solution\n"
   ]
  },
  {
   "cell_type": "code",
   "execution_count": null,
   "metadata": {
    "ExecuteTime": {
     "end_time": "2019-06-13T17:40:08.263383Z",
     "start_time": "2019-06-13T17:40:08.246500Z"
    }
   },
   "outputs": [
    {
     "name": "stdout",
     "output_type": "stream",
     "text": [
      "...2     >>> 3\n",
      "...5     >>> 9\n",
      "...10     >>> 19\n",
      "...13     >>> 649\n",
      "...29     >>> 9801\n",
      "...46     >>> 24335\n",
      "...53     >>> 66249\n",
      "...61     >>> 1766319049\n",
      "...109    "
     ]
    }
   ],
   "source": [
    "def isQ(x):\n",
    "    return round(x ** .5) ** 2 == x\n",
    "\n",
    "mx = 0\n",
    "    \n",
    "for D in range(2, 1001):\n",
    "    print(f\"\\r...{D}    \", end='', flush=True)\n",
    "    if isQ(D):\n",
    "        continue\n",
    "    y = 1\n",
    "    while True:\n",
    "        try:\n",
    "            x = D * y * y + 1\n",
    "            if isQ(x):\n",
    "                x = round(x ** .5)\n",
    "                if x > mx:\n",
    "                    print(f\" >>> {x}\")\n",
    "                    mx = x\n",
    "                break\n",
    "        except:\n",
    "            ...\n",
    "        y += 1\n"
   ]
  },
  {
   "cell_type": "code",
   "execution_count": null,
   "metadata": {},
   "outputs": [],
   "source": []
  }
 ],
 "metadata": {
  "hide_input": false,
  "kernelspec": {
   "display_name": "Python 3 (ipykernel)",
   "language": "python",
   "name": "python3"
  },
  "language_info": {
   "codemirror_mode": {
    "name": "ipython",
    "version": 3
   },
   "file_extension": ".py",
   "mimetype": "text/x-python",
   "name": "python",
   "nbconvert_exporter": "python",
   "pygments_lexer": "ipython3",
   "version": "3.10.5"
  },
  "toc": {
   "base_numbering": 1,
   "nav_menu": {},
   "number_sections": false,
   "sideBar": true,
   "skip_h1_title": false,
   "title_cell": "Table of Contents",
   "title_sidebar": "Contents",
   "toc_cell": false,
   "toc_position": {},
   "toc_section_display": true,
   "toc_window_display": false
  },
  "varInspector": {
   "cols": {
    "lenName": 16,
    "lenType": 16,
    "lenVar": 40
   },
   "kernels_config": {
    "python": {
     "delete_cmd_postfix": "",
     "delete_cmd_prefix": "del ",
     "library": "var_list.py",
     "varRefreshCmd": "print(var_dic_list())"
    },
    "r": {
     "delete_cmd_postfix": ") ",
     "delete_cmd_prefix": "rm(",
     "library": "var_list.r",
     "varRefreshCmd": "cat(var_dic_list()) "
    }
   },
   "position": {
    "height": "152.85px",
    "left": "878px",
    "right": "20px",
    "top": "120px",
    "width": "336.667px"
   },
   "types_to_exclude": [
    "module",
    "function",
    "builtin_function_or_method",
    "instance",
    "_Feature"
   ],
   "window_display": false
  }
 },
 "nbformat": 4,
 "nbformat_minor": 4
}
