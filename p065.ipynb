{
 "cells": [
  {
   "cell_type": "markdown",
   "metadata": {},
   "source": [
    "# Convergents of e\n",
    "## [Problem 65](https://projecteuler.net/problem=65)"
   ]
  },
  {
   "cell_type": "markdown",
   "metadata": {},
   "source": [
    "The square root of 2 can be written as an infinite continued fraction.\n",
    "$$\n",
    "\\sqrt{2}=1+\\dfrac{1}{2+\\dfrac{1}{2+\\dfrac{1}{2+\\ddots}}}\n",
    "$$\n",
    "The infinite continued fraction can be written, $\\sqrt{2}=[1;(2)]$, (2) indicates that 2 repeats ad infinitum. In a similar way, $\\sqrt{23}=[4;(1,3,1,8)]$.\n",
    "\n",
    "It turns out that the sequence of partial values of continued fractions for square roots provide the best rational approximations. Let us consider the convergents for $\\sqrt(2)$.\n",
    "\n",
    "$$1+\\dfrac{1}{2}=\\dfrac{3}{2}\\\\\n",
    "1+\\dfrac{1}{2+\\dfrac{1}{2}}=\\dfrac{7}{5}\\\\\n",
    "1+\\dfrac{1}{2+\\dfrac{1}{2+\\dfrac{1}{2}}}=\\dfrac{17}{12}\\\\\n",
    "1+\\dfrac{1}{2+\\dfrac{1}{2+\\dfrac{1}{2+\\dfrac{1}{2}}}}=\\dfrac{41}{29}$$\n",
    "\n",
    "Hence the sequence of the first ten convergents for $\\sqrt{2}$ are:\n",
    "\n",
    "$$1, \\dfrac{3}{2}, \\dfrac{7}{5}, \\dfrac{17}{12}, \\dfrac{41}{29}, \\dfrac{99}{70}, \\dfrac{239}{169}, \\dfrac{577}{408}, \\dfrac{1393}{985}, \\dfrac{3363}{2378}, \\ldots$$\n",
    "\n",
    "What is most surprising is that the important mathematical constant,\n",
    "$$e=[2; 1, 2, 1, 1, 4, 1, 1, 6, 1, \\ldots, 1, 2k, 1, \\ldots]$$.\n",
    "\n",
    "The first ten terms in the sequence of convergents for e are:\n",
    "\n",
    "$$2, 3, \\dfrac{8}{3}, \\dfrac{11}{4}, \\dfrac{19}{7}, \\dfrac{87}{32}, \\dfrac{106}{39}, \\dfrac{193}{71}, \\dfrac{1264}{465}, \\dfrac{1457}{536}, \\ldots$$\n",
    "\n",
    "The sum of digits in the numerator of the $10^{th}$ convergent is $1+4+5+7=17$.\n",
    "\n",
    "Find the sum of digits in the numerator of the $100^{th}$ convergent of the continued fraction for $e$."
   ]
  },
  {
   "cell_type": "markdown",
   "metadata": {},
   "source": [
    "## Solution\n"
   ]
  },
  {
   "cell_type": "code",
   "execution_count": 1,
   "metadata": {
    "ExecuteTime": {
     "end_time": "2019-06-13T17:40:08.263383Z",
     "start_time": "2019-06-13T17:40:08.246500Z"
    }
   },
   "outputs": [
    {
     "name": "stdout",
     "output_type": "stream",
     "text": [
      "272\n"
     ]
    }
   ],
   "source": [
    "from itertools import islice\n",
    "\n",
    "def gen_e():\n",
    "    yield 2\n",
    "    n = 2\n",
    "    while True:\n",
    "        yield 1\n",
    "        yield n\n",
    "        yield 1\n",
    "        n += 2\n",
    "\n",
    "def calc_e(n):\n",
    "    a, b = 1, 0\n",
    "    for x in reversed(list(islice(gen_e(),0,n))):\n",
    "        a, b = x * a + b, a\n",
    "    return a, b\n",
    "\n",
    "\n",
    "a, b = calc_e(100)\n",
    "print(sum(map(int,str(a))))\n",
    "\n"
   ]
  }
 ],
 "metadata": {
  "hide_input": false,
  "kernelspec": {
   "display_name": "Python 3",
   "language": "python",
   "name": "python3"
  },
  "language_info": {
   "codemirror_mode": {
    "name": "ipython",
    "version": 3
   },
   "file_extension": ".py",
   "mimetype": "text/x-python",
   "name": "python",
   "nbconvert_exporter": "python",
   "pygments_lexer": "ipython3",
   "version": "3.7.3"
  },
  "toc": {
   "base_numbering": 1,
   "nav_menu": {},
   "number_sections": false,
   "sideBar": true,
   "skip_h1_title": false,
   "title_cell": "Table of Contents",
   "title_sidebar": "Contents",
   "toc_cell": false,
   "toc_position": {},
   "toc_section_display": true,
   "toc_window_display": false
  },
  "varInspector": {
   "cols": {
    "lenName": 16,
    "lenType": 16,
    "lenVar": 40
   },
   "kernels_config": {
    "python": {
     "delete_cmd_postfix": "",
     "delete_cmd_prefix": "del ",
     "library": "var_list.py",
     "varRefreshCmd": "print(var_dic_list())"
    },
    "r": {
     "delete_cmd_postfix": ") ",
     "delete_cmd_prefix": "rm(",
     "library": "var_list.r",
     "varRefreshCmd": "cat(var_dic_list()) "
    }
   },
   "position": {
    "height": "152.85px",
    "left": "878px",
    "right": "20px",
    "top": "120px",
    "width": "336.667px"
   },
   "types_to_exclude": [
    "module",
    "function",
    "builtin_function_or_method",
    "instance",
    "_Feature"
   ],
   "window_display": false
  }
 },
 "nbformat": 4,
 "nbformat_minor": 2
}
