{
 "cells": [
  {
   "cell_type": "markdown",
   "metadata": {},
   "source": [
    "# Spiral primes\n",
    "## __[Problem 58](http://projecteuler.net/problem=058)__"
   ]
  },
  {
   "cell_type": "markdown",
   "metadata": {},
   "source": [
    "Starting with 1 and spiralling anticlockwise in the following way, a square spiral with side length 7 is formed.\n",
    "\n",
    "<p style=\"text-align:center;font-family:'monospace';\"><span style=\"color:red;\"><b>37</b></span> 36 35 34 33 32 <span style=\"color:red;\"><b>31</b></span><br />\n",
    "38 <span style=\"color:red;\"><b>17</b></span> 16 15 14 <span style=\"color:red;\"><b>13</b></span> 30<br />\n",
    "39 18 <span style=\"color:red;\"> <b>&nbsp;5</b></span>  &nbsp;4 <span style=\"color:red;\"> <b>&nbsp;3</b></span> 12 29<br />\n",
    "40 19 &nbsp;6  &nbsp;1  &nbsp;2 11 28<br />\n",
    "41 20 <span style=\"color:red;\"> <b>&nbsp;7</b></span>  &nbsp;8  &nbsp;9 10 27<br />\n",
    "42 21 22 23 24 25 26<br /><span style=\"color:red;\"><b>43</b></span> 44 45 46 47 48 49</p>\n",
    "\n",
    "It is interesting to note that the odd squares lie along the bottom right diagonal, but what is more interesting is that 8 out of the 13 numbers lying along both diagonals are prime; that is, a ratio of 8/13 ≈ 62%.\n",
    "\n",
    "If one complete new layer is wrapped around the spiral above, a square spiral with side length 9 will be formed. If this process is continued, what is the side length of the square spiral for which the ratio of primes along both diagonals first falls below 10%?\n"
   ]
  },
  {
   "cell_type": "markdown",
   "metadata": {},
   "source": [
    "## Solution"
   ]
  },
  {
   "cell_type": "code",
   "execution_count": 1,
   "metadata": {},
   "outputs": [
    {
     "name": "stdout",
     "output_type": "stream",
     "text": [
      "26241\n"
     ]
    }
   ],
   "source": [
    "def prime(m=0):\n",
    "    if m > 2:\n",
    "        yield 2\n",
    "    if m > 3:\n",
    "        yield 3\n",
    "    p, n, q = 5, 3, 9\n",
    "    while (not m) or (p < m):\n",
    "        if  all(p % x for x in range(3, n+1, 2)):\n",
    "            yield p\n",
    "        p += 2\n",
    "        while p>q:\n",
    "            q += n\n",
    "            n += 1\n",
    "            q += n\n",
    "\n",
    "ptable = list(prime(30000))\n",
    "\n",
    "def isprime(n):\n",
    "    if n <= ptable[-1]:\n",
    "        return n in ptable\n",
    "    q = int(n ** 0.5) + 1\n",
    "    for x in ptable:\n",
    "        if n % x == 0:\n",
    "            return False\n",
    "        if x > q:\n",
    "            return True\n",
    "    if q>ptable[-1]:\n",
    "        for x in range(ptable[-1],q,2):\n",
    "            if n % x == 0:\n",
    "                return False\n",
    "    return True\n",
    "\n",
    "def spiral(x=None):\n",
    "    n = z = 1\n",
    "    yield z\n",
    "    while (x is None) or (n < x):\n",
    "        n += 1\n",
    "        for _ in range(4):\n",
    "            z += n\n",
    "            yield z\n",
    "        n += 1\n",
    "        \n",
    "sp = spiral()\n",
    "next(sp)\n",
    "size, dt, pt = 1, 1, 0\n",
    "while True:\n",
    "    for _ in range(3):\n",
    "        x = next(sp)\n",
    "        if isprime(x):\n",
    "            pt += 1\n",
    "    x = next(sp)\n",
    "    dt += 4\n",
    "    size += 2\n",
    "    if pt / dt < 0.1:\n",
    "        print(size)\n",
    "        break"
   ]
  }
 ],
 "metadata": {
  "kernelspec": {
   "display_name": "Python 3",
   "language": "python",
   "name": "python3"
  },
  "language_info": {
   "codemirror_mode": {
    "name": "ipython",
    "version": 3
   },
   "file_extension": ".py",
   "mimetype": "text/x-python",
   "name": "python",
   "nbconvert_exporter": "python",
   "pygments_lexer": "ipython3",
   "version": "3.7.3"
  }
 },
 "nbformat": 4,
 "nbformat_minor": 2
}
