{
 "cells": [
  {
   "cell_type": "markdown",
   "metadata": {},
   "source": [
    "# Prime pair sets\n",
    "## __[Problem 60](http://projecteuler.net/problem=60)__"
   ]
  },
  {
   "cell_type": "markdown",
   "metadata": {},
   "source": [
    "The primes 3, 7, 109, and 673, are quite remarkable. By taking any two primes and concatenating them in any order the result will always be prime. For example, taking 7 and 109, both 7109 and 1097 are prime. The sum of these four primes, 792, represents the lowest sum for a set of four primes with this property."
   ]
  },
  {
   "cell_type": "markdown",
   "metadata": {},
   "source": [
    "## Solution"
   ]
  },
  {
   "cell_type": "code",
   "execution_count": 1,
   "metadata": {},
   "outputs": [
    {
     "name": "stdout",
     "output_type": "stream",
     "text": [
      "26033\n"
     ]
    }
   ],
   "source": [
    "def prime(m=0):\n",
    "    if m > 2:\n",
    "        yield 2\n",
    "    if m > 3:\n",
    "        yield 3\n",
    "    p, n, q = 5, 3, 9\n",
    "    while (not m) or (p < m):\n",
    "        if  all(p % x for x in range(3, n+1, 2)):\n",
    "            yield p\n",
    "        p += 2\n",
    "        while p>q:\n",
    "            q += n\n",
    "            n += 1\n",
    "            q += n\n",
    "\n",
    "ptable = list(prime(10000))\n",
    "\n",
    "def isprime(n):\n",
    "    if n <= ptable[-1]:\n",
    "        return n in ptable\n",
    "    q = int(n ** 0.5) + 1\n",
    "    for x in ptable:\n",
    "        if n % x == 0:\n",
    "            return False\n",
    "        if x > q:\n",
    "            return True\n",
    "    if q>ptable[-1]:\n",
    "        for x in range(ptable[-1],q,2):\n",
    "            if n % x == 0:\n",
    "                return False\n",
    "    return True\n",
    "\n",
    "def gen_set(lst, num, mx=None):\n",
    "    num -= 1\n",
    "    if mx is None:\n",
    "        mx = []\n",
    "    limit = lst.index(mx[-1]) if mx else len(lst)\n",
    "    for x in lst[num:limit]:\n",
    "        if all(isprime(int(str(x)+str(y))) and isprime(int(str(y)+str(x))) for y in mx):\n",
    "            if num:\n",
    "                    for y in gen_set(lst, num, mx+[x]):\n",
    "                        yield y + [x]\n",
    "            else:\n",
    "                yield [x]\n",
    "\n",
    "nt = []+ptable\n",
    "nt.remove(2)\n",
    "nt.remove(5)\n",
    "\n",
    "five = next(gen_set(nt,5))\n",
    "print(sum(five))\n"
   ]
  }
 ],
 "metadata": {
  "kernelspec": {
   "display_name": "Python 3",
   "language": "python",
   "name": "python3"
  },
  "language_info": {
   "codemirror_mode": {
    "name": "ipython",
    "version": 3
   },
   "file_extension": ".py",
   "mimetype": "text/x-python",
   "name": "python",
   "nbconvert_exporter": "python",
   "pygments_lexer": "ipython3",
   "version": "3.7.3"
  }
 },
 "nbformat": 4,
 "nbformat_minor": 2
}
