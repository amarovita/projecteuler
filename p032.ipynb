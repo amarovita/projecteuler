{
 "cells": [
  {
   "cell_type": "markdown",
   "metadata": {},
   "source": [
    "# Pandigital products\n",
    "## __[Problem 32](http://projecteuler.net/problem=32)__"
   ]
  },
  {
   "cell_type": "markdown",
   "metadata": {},
   "source": [
    "We shall say that an n-digit number is pandigital if it makes use of all the digits 1 to n exactly once; for example, the 5-digit number, 15234, is 1 through 5 pandigital.\n",
    "\n",
    "The product 7254 is unusual, as the identity, 39 × 186 = 7254, containing multiplicand, multiplier, and product is 1 through 9 pandigital.\n",
    "\n",
    "Find the sum of all products whose multiplicand/multiplier/product identity can be written as a 1 through 9 pandigital.\n",
    "\n",
    "_HINT: Some products can be obtained in more than one way so be sure to only include it once in your sum._\n",
    "\n"
   ]
  },
  {
   "cell_type": "markdown",
   "metadata": {},
   "source": [
    "## Solution"
   ]
  },
  {
   "cell_type": "code",
   "execution_count": 1,
   "metadata": {},
   "outputs": [
    {
     "name": "stdout",
     "output_type": "stream",
     "text": [
      "45228\n"
     ]
    }
   ],
   "source": [
    "from functools import reduce\n",
    "from itertools import permutations\n",
    "\n",
    "nfl = lambda l: reduce(lambda x,y: x*10+y, l)\n",
    "prs = []\n",
    "for x in permutations(range(1,10)):\n",
    "    if ((x[2]*x[4] % 10 == x[8]) and (nfl(x[:3])*nfl(x[3:5]) == nfl(x[5:])) or\n",
    "        (x[3]*x[4] % 10 == x[8]) and (nfl(x[:4])*nfl(x[4:5]) == nfl(x[5:]))):\n",
    "        prs.append(nfl(x[5:]))\n",
    "\n",
    "print(sum(set(prs)))\n"
   ]
  }
 ],
 "metadata": {
  "kernelspec": {
   "display_name": "Python 3",
   "language": "python",
   "name": "python3"
  },
  "language_info": {
   "codemirror_mode": {
    "name": "ipython",
    "version": 3
   },
   "file_extension": ".py",
   "mimetype": "text/x-python",
   "name": "python",
   "nbconvert_exporter": "python",
   "pygments_lexer": "ipython3",
   "version": "3.7.3"
  }
 },
 "nbformat": 4,
 "nbformat_minor": 2
}
