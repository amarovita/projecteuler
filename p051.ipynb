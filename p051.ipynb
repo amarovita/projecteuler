{
 "cells": [
  {
   "cell_type": "markdown",
   "metadata": {},
   "source": [
    "# Prime digit replacements\n",
    "## [Problem 51](https://projecteuler.net/problem=51)"
   ]
  },
  {
   "cell_type": "markdown",
   "metadata": {},
   "source": [
    "\n",
    "By replacing the 1st digit of the 2-digit number *3, it turns out that six of the nine possible values: 13, 23, 43, 53, 73, and 83, are all prime.\n",
    "\n",
    "By replacing the 3rd and 4th digits of 56**3 with the same digit, this 5-digit number is the first example having seven primes among the ten generated numbers, yielding the family: 56003, 56113, 56333, 56443, 56663, 56773, and 56993. Consequently 56003, being the first member of this family, is the smallest prime with this property.\n",
    "\n",
    "Find the smallest prime which, by replacing part of the number (not necessarily adjacent digits) with the same digit, is part of an eight prime value family.\n"
   ]
  },
  {
   "cell_type": "markdown",
   "metadata": {},
   "source": [
    "## Solution"
   ]
  },
  {
   "cell_type": "code",
   "execution_count": 14,
   "metadata": {
    "ExecuteTime": {
     "end_time": "2019-06-09T18:07:20.421790Z",
     "start_time": "2019-06-09T18:07:17.789311Z"
    }
   },
   "outputs": [
    {
     "name": "stdout",
     "output_type": "stream",
     "text": [
      "121313: 1, 8\n"
     ]
    }
   ],
   "source": [
    "from primes import gen_primes, isprime\n",
    "\n",
    "primes = gen_primes()\n",
    "\n",
    "for p in primes:\n",
    "    if p == 11:\n",
    "        break\n",
    "sd = set('0123456789')\n",
    "\n",
    "for p in primes:\n",
    "    print(f\"\\r{p}\", end='')\n",
    "    s = str(p)\n",
    "    ad = [x for x in '012' if x in s[:-1]]\n",
    "    for d in ad:\n",
    "        nd = int(d)\n",
    "        bad = 0\n",
    "        for x in '123456789'[nd:]:\n",
    "            bad += not isprime(int(s.replace(d, x)))\n",
    "            if bad > 2-nd:\n",
    "                break\n",
    "        else:\n",
    "            print(f'\\r{p}: {d}, {10-bad-nd}')\n",
    "            break\n",
    "    else:\n",
    "        continue\n",
    "    break\n",
    "            \n"
   ]
  }
 ],
 "metadata": {
  "hide_input": false,
  "kernelspec": {
   "display_name": "Python 3 (ipykernel)",
   "language": "python",
   "name": "python3"
  },
  "language_info": {
   "codemirror_mode": {
    "name": "ipython",
    "version": 3
   },
   "file_extension": ".py",
   "mimetype": "text/x-python",
   "name": "python",
   "nbconvert_exporter": "python",
   "pygments_lexer": "ipython3",
   "version": "3.8.10"
  },
  "toc": {
   "base_numbering": 1,
   "nav_menu": {},
   "number_sections": false,
   "sideBar": true,
   "skip_h1_title": false,
   "title_cell": "Table of Contents",
   "title_sidebar": "Contents",
   "toc_cell": false,
   "toc_position": {},
   "toc_section_display": true,
   "toc_window_display": false
  },
  "varInspector": {
   "cols": {
    "lenName": 16,
    "lenType": 16,
    "lenVar": 40
   },
   "kernels_config": {
    "python": {
     "delete_cmd_postfix": "",
     "delete_cmd_prefix": "del ",
     "library": "var_list.py",
     "varRefreshCmd": "print(var_dic_list())"
    },
    "r": {
     "delete_cmd_postfix": ") ",
     "delete_cmd_prefix": "rm(",
     "library": "var_list.r",
     "varRefreshCmd": "cat(var_dic_list()) "
    }
   },
   "position": {
    "height": "152.85px",
    "left": "878px",
    "right": "20px",
    "top": "120px",
    "width": "336.667px"
   },
   "types_to_exclude": [
    "module",
    "function",
    "builtin_function_or_method",
    "instance",
    "_Feature"
   ],
   "window_display": false
  }
 },
 "nbformat": 4,
 "nbformat_minor": 4
}
