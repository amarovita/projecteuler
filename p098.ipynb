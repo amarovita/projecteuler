{
 "cells": [
  {
   "cell_type": "markdown",
   "metadata": {},
   "source": [
    "# Anagramic squares\n",
    "## [Problem 98](https://projecteuler.net/problem=98)\n"
   ]
  },
  {
   "cell_type": "markdown",
   "metadata": {},
   "source": [
    "By replacing each of the letters in the word CARE with 1, 2, 9, and 6 respectively, we form a square number: 1296 = 362. What is remarkable is that, by using the same digital substitutions, the anagram, RACE, also forms a square number: 9216 = 962. We shall call CARE (and RACE) a square anagram word pair and specify further that leading zeroes are not permitted, neither may a different letter have the same digital value as another letter.\n",
    "\n",
    "Using [words.txt](p098_words.txt) (right click and 'Save Link/Target As...'), a 16K text file containing nearly two-thousand common English words, find all the square anagram word pairs (a palindromic word is NOT considered to be an anagram of itself).\n",
    "\n",
    "What is the largest square number formed by any member of such a pair?\n",
    "\n",
    "NOTE: All anagrams formed must be contained in the given text file."
   ]
  },
  {
   "cell_type": "markdown",
   "metadata": {},
   "source": [
    "## Solution\n",
    "\n",
    "1. Find all anagram groups\n",
    "2. Make list of anagram word pairs, sorted by length descending\n",
    "3. ..."
   ]
  },
  {
   "cell_type": "code",
   "execution_count": 23,
   "metadata": {},
   "outputs": [
    {
     "name": "stdout",
     "output_type": "stream",
     "text": [
      "18769\n"
     ]
    }
   ],
   "source": [
    "from itertools import combinations\n",
    "\n",
    "words = open('p098_words.txt').read().strip('\"').split('\",\"')\n",
    "sq = [str(i * i) for i in range(100000)]\n",
    "\n",
    "\n",
    "def findPairs(words):\n",
    "    wordIndex = {}\n",
    "    for word in words:\n",
    "        key = ''.join(sorted(word))\n",
    "        wordIndex[key] = wordIndex.get(key, []) + [word]\n",
    "    wordPairs = []\n",
    "    for v in wordIndex.values():\n",
    "        wordPairs.extend(combinations(v, 2))\n",
    "    return sorted(wordPairs, key = lambda x: -len(x[0]))\n",
    "\n",
    "def pairHashHalf(p):\n",
    "    l = list(p[1])\n",
    "    r = []\n",
    "    for i, c in enumerate(p[0]):\n",
    "        r.append(l.index(c))\n",
    "        l.pop(l.index(c))\n",
    "    return ''.join(map(str, r))\n",
    "\n",
    "def pairHash(p):\n",
    "    h1, h2 = pairHashHalf(p), pairHashHalf((p[1], p[0]))\n",
    "    return h1 + h2 if h1 < h2 else h2 + h1\n",
    "\n",
    "def validPairs(p, s):\n",
    "    d = {}\n",
    "    for pp, ss in zip(p[0], s[0]):\n",
    "        if pp in d or ss in d:\n",
    "            return False\n",
    "        d[pp], d[ss] = ss, pp\n",
    "    return True\n",
    "    \n",
    "wPairs = findPairs(words)\n",
    "sPairs = findPairs(sq)\n",
    "\n",
    "# maxWordLen = len(wPairs[0][0])\n",
    "# wPairs = [x for x in wPairs if len(x[0]) == maxWordLen]\n",
    "\n",
    "mx = 0\n",
    "for wPair in wPairs:\n",
    "    lp = [x for x in sPairs if len(x[0]) == len(wPair[0])]\n",
    "    for sPair in lp:\n",
    "        if validPairs(wPair, sPair) and pairHash(wPair) == pairHash(sPair):\n",
    "            mx = max(mx, int(sPair[0]), int(sPair[1]))\n",
    "print(mx)\n",
    "        "
   ]
  }
 ],
 "metadata": {
  "kernelspec": {
   "display_name": "Python 3",
   "language": "python",
   "name": "python3"
  },
  "language_info": {
   "codemirror_mode": {
    "name": "ipython",
    "version": 3
   },
   "file_extension": ".py",
   "mimetype": "text/x-python",
   "name": "python",
   "nbconvert_exporter": "python",
   "pygments_lexer": "ipython3",
   "version": "3.9.0+"
  }
 },
 "nbformat": 4,
 "nbformat_minor": 4
}