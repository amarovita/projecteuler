{
 "cells": [
  {
   "cell_type": "markdown",
   "metadata": {},
   "source": [
    "# Circular primes\n",
    "## __[Problem 35](http://projecteuler.net/problem=035)__"
   ]
  },
  {
   "cell_type": "markdown",
   "metadata": {},
   "source": [
    "The number, 197, is called a circular prime because all rotations of the digits: 197, 971, and 719, are themselves prime.\n",
    "\n",
    "There are thirteen such primes below 100: 2, 3, 5, 7, 11, 13, 17, 31, 37, 71, 73, 79, and 97.\n",
    "\n",
    "How many circular primes are there below one million?\n"
   ]
  },
  {
   "cell_type": "markdown",
   "metadata": {},
   "source": [
    "## Solution"
   ]
  },
  {
   "cell_type": "code",
   "execution_count": 1,
   "metadata": {},
   "outputs": [
    {
     "name": "stdout",
     "output_type": "stream",
     "text": [
      "55\n"
     ]
    }
   ],
   "source": [
    "def prime(m=0):\n",
    "    if m > 2:\n",
    "        yield 2\n",
    "    if m > 3:\n",
    "        yield 3\n",
    "    p, n, q = 5, 3, 9\n",
    "    while (not m) or (p < m):\n",
    "        if  all(p % x for x in range(3, n+1, 2)):\n",
    "            yield p\n",
    "        p += 2\n",
    "        while p>q:\n",
    "            q += n\n",
    "            n += 1\n",
    "            q += n\n",
    "\n",
    "ptable = list(prime(1000000))\n",
    "\n",
    "def isprime(n):\n",
    "    if n <= ptable[-1]:\n",
    "        return n in ptable\n",
    "    q = int(n ** 0.5) + 1\n",
    "    for x in ptable:\n",
    "        if n % x == 0:\n",
    "            return False\n",
    "        if x > q:\n",
    "            return True\n",
    "    if q>ptable[-1]:\n",
    "        for x in range(ptable[-1],q,2):\n",
    "            if n % x == 0:\n",
    "                return False\n",
    "    return True\n",
    "\n",
    "def iscircular(n):\n",
    "    n = str(n)\n",
    "    return all(isprime(int(n[i:]+n[:i])) for i in range(1,len(n)))\n",
    "    \n",
    "print(len([x for x in ptable if iscircular(x)]))"
   ]
  }
 ],
 "metadata": {
  "kernelspec": {
   "display_name": "Python 3",
   "language": "python",
   "name": "python3"
  },
  "language_info": {
   "codemirror_mode": {
    "name": "ipython",
    "version": 3
   },
   "file_extension": ".py",
   "mimetype": "text/x-python",
   "name": "python",
   "nbconvert_exporter": "python",
   "pygments_lexer": "ipython3",
   "version": "3.7.3"
  }
 },
 "nbformat": 4,
 "nbformat_minor": 2
}
