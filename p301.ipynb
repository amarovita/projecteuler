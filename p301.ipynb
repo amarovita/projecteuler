{
 "cells": [
  {
   "cell_type": "markdown",
   "metadata": {},
   "source": [
    "# Nim\n",
    "## [Problem 301](https://projecteuler.net/problem=301)"
   ]
  },
  {
   "cell_type": "markdown",
   "metadata": {},
   "source": [
    "Nim is a game played with heaps of stones, where two players take it in turn to remove any number of stones from any heap until no stones remain.\n",
    "\n",
    "We'll consider the three-heap normal-play version of Nim, which works as follows:\n",
    " - At the start of the game there are three heaps of stones.\n",
    " - On his turn the player removes any positive number of stones from any single heap.\n",
    " - The first player unable to move (because no stones remain) loses.\n",
    "\n",
    "If (n₁,n₂,n₃) indicates a Nim position consisting of heaps of size n₁, n₂ and n₃ then there is a simple function X(n₁,n₂,n₃) — that you may look up or attempt to deduce for yourself — that returns:\n",
    "\n",
    " - zero if, with perfect strategy, the player about to move will eventually lose; or\n",
    " - non-zero if, with perfect strategy, the player about to move will eventually win.\n",
    "\n",
    "For example X(1,2,3) = 0 because, no matter what the current player does, his opponent can respond with a move that leaves two heaps of equal size, at which point every move by the current player can be mirrored by his opponent until no stones remain; so the current player loses. To illustrate:\n",
    " - current player moves to (1,2,1)\n",
    " - opponent moves to (1,0,1)\n",
    " - current player moves to (0,0,1)\n",
    " - opponent moves to (0,0,0), and so wins.\n",
    "\n",
    "For how many positive integers n ≤ 230 does X(n,2n,3n) = 0 ?\n"
   ]
  },
  {
   "cell_type": "markdown",
   "metadata": {},
   "source": [
    "## Solution"
   ]
  },
  {
   "cell_type": "code",
   "execution_count": 1,
   "metadata": {
    "ExecuteTime": {
     "end_time": "2019-06-09T06:48:36.033732Z",
     "start_time": "2019-06-09T06:48:36.027537Z"
    }
   },
   "outputs": [
    {
     "name": "stdout",
     "output_type": "stream",
     "text": [
      "2178309\n"
     ]
    }
   ],
   "source": [
    "a, b = 1, 1\n",
    "for x in range(30):\n",
    "    a, b = b, a+b\n",
    "print(b)\n"
   ]
  }
 ],
 "metadata": {
  "kernelspec": {
   "display_name": "Python 3",
   "language": "python",
   "name": "python3"
  },
  "language_info": {
   "codemirror_mode": {
    "name": "ipython",
    "version": 3
   },
   "file_extension": ".py",
   "mimetype": "text/x-python",
   "name": "python",
   "nbconvert_exporter": "python",
   "pygments_lexer": "ipython3",
   "version": "3.7.3"
  },
  "toc": {
   "base_numbering": 1,
   "nav_menu": {},
   "number_sections": false,
   "sideBar": true,
   "skip_h1_title": false,
   "title_cell": "Table of Contents",
   "title_sidebar": "Contents",
   "toc_cell": false,
   "toc_position": {},
   "toc_section_display": true,
   "toc_window_display": false
  },
  "varInspector": {
   "cols": {
    "lenName": 16,
    "lenType": 16,
    "lenVar": 40
   },
   "kernels_config": {
    "python": {
     "delete_cmd_postfix": "",
     "delete_cmd_prefix": "del ",
     "library": "var_list.py",
     "varRefreshCmd": "print(var_dic_list())"
    },
    "r": {
     "delete_cmd_postfix": ") ",
     "delete_cmd_prefix": "rm(",
     "library": "var_list.r",
     "varRefreshCmd": "cat(var_dic_list()) "
    }
   },
   "position": {
    "height": "152.85px",
    "left": "878px",
    "right": "20px",
    "top": "120px",
    "width": "336.667px"
   },
   "types_to_exclude": [
    "module",
    "function",
    "builtin_function_or_method",
    "instance",
    "_Feature"
   ],
   "window_display": false
  }
 },
 "nbformat": 4,
 "nbformat_minor": 2
}
