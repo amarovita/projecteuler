{
 "cells": [
  {
   "cell_type": "markdown",
   "metadata": {},
   "source": [
    "# Path sum: two ways\n",
    "## [Problem 81](https://projecteuler.net/problem=81)"
   ]
  },
  {
   "cell_type": "markdown",
   "metadata": {},
   "source": [
    "In the 5 by 5 matrix below, the minimal path sum from the top left to the bottom right, by only moving to the right and down, is indicated in bold red and is equal to 2427.\n",
    "\n",
    "$$\\begin{pmatrix}\n",
    "\\color{red}{131} & 673 & 234 & 103 & 18 \\\\\n",
    "\\color{red}{201} & \\color{red}{96} & \\color{red}{342} & 965 & 150 \\\\\n",
    "630 & 803 & \\color{red}{746} & \\color{red}{422} & 111 \\\\\n",
    "537 & 699 & 497 & \\color{red}{121} & 956 \\\\\n",
    "805 & 732 & 524 & \\color{red}{37} & \\color{red}{331}\n",
    "\\end{pmatrix}$$\n",
    "\n",
    "Find the minimal path sum, in [matrix.txt](p081_matrix.txt) (right click and \"Save Link/Target As...\"), a 31K text file containing a 80 by 80 matrix, from the top left to the bottom right by only moving right and down."
   ]
  },
  {
   "cell_type": "markdown",
   "metadata": {},
   "source": [
    "## Solution\n"
   ]
  },
  {
   "cell_type": "code",
   "execution_count": 1,
   "metadata": {
    "ExecuteTime": {
     "end_time": "2019-06-13T09:23:53.157815Z",
     "start_time": "2019-06-13T09:23:38.924475Z"
    }
   },
   "outputs": [
    {
     "name": "stdout",
     "output_type": "stream",
     "text": [
      ">>>     427337\n",
      "427337\n"
     ]
    }
   ],
   "source": [
    "mx = []\n",
    "with open('p081_matrix.txt','r') as f:\n",
    "    for row in f:\n",
    "        mx.append(list(map(int, row.split(','))))\n",
    "\n",
    "def tick(mx):\n",
    "    for i in range(len(mx)):\n",
    "        for j in range(len(mx[0])):\n",
    "            if mx[i][j] > 0:\n",
    "                if (i and mx[i-1][j] == 0) or (j and mx[i][j-1] == 0):\n",
    "                    mx[i][j] = -mx[i][j]\n",
    "                    \n",
    "def tock(mx):\n",
    "    step = min(-x for row in mx for x in row if x < 0)\n",
    "    for row in mx:\n",
    "        for i in range(len(row)):\n",
    "            if row[i]<0:\n",
    "                row[i] += step\n",
    "    return step\n",
    "            \n",
    "waylen = mx[0][0]\n",
    "mx[0][0] = 0\n",
    "while mx[-1][-1]:\n",
    "    tick(mx)\n",
    "    waylen += tock(mx)\n",
    "    print('>>> %10d' % waylen, end='\\r')\n",
    "\n",
    "print()\n",
    "print(waylen)"
   ]
  }
 ],
 "metadata": {
  "hide_input": false,
  "kernelspec": {
   "display_name": "Python 3",
   "language": "python",
   "name": "python3"
  },
  "language_info": {
   "codemirror_mode": {
    "name": "ipython",
    "version": 3
   },
   "file_extension": ".py",
   "mimetype": "text/x-python",
   "name": "python",
   "nbconvert_exporter": "python",
   "pygments_lexer": "ipython3",
   "version": "3.7.3"
  },
  "toc": {
   "base_numbering": 1,
   "nav_menu": {},
   "number_sections": false,
   "sideBar": true,
   "skip_h1_title": false,
   "title_cell": "Table of Contents",
   "title_sidebar": "Contents",
   "toc_cell": false,
   "toc_position": {},
   "toc_section_display": true,
   "toc_window_display": false
  },
  "varInspector": {
   "cols": {
    "lenName": 16,
    "lenType": 16,
    "lenVar": 40
   },
   "kernels_config": {
    "python": {
     "delete_cmd_postfix": "",
     "delete_cmd_prefix": "del ",
     "library": "var_list.py",
     "varRefreshCmd": "print(var_dic_list())"
    },
    "r": {
     "delete_cmd_postfix": ") ",
     "delete_cmd_prefix": "rm(",
     "library": "var_list.r",
     "varRefreshCmd": "cat(var_dic_list()) "
    }
   },
   "position": {
    "height": "152.85px",
    "left": "878px",
    "right": "20px",
    "top": "120px",
    "width": "336.667px"
   },
   "types_to_exclude": [
    "module",
    "function",
    "builtin_function_or_method",
    "instance",
    "_Feature"
   ],
   "window_display": false
  }
 },
 "nbformat": 4,
 "nbformat_minor": 2
}
