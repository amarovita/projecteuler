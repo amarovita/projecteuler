{
 "cells": [
  {
   "cell_type": "markdown",
   "metadata": {},
   "source": [
    "# Maximum path sum II\n",
    "## [Problem 67](https://projecteuler.net/problem=67)"
   ]
  },
  {
   "cell_type": "markdown",
   "metadata": {},
   "source": [
    "By starting at the top of the triangle below and moving to adjacent numbers on the row below, the maximum total from top to bottom is 23.\n",
    "\n",
    "<center>\n",
    "<b>3</b><br>\n",
    "<b>7</b> 4<br>\n",
    "2 <b>4</b> 6<br>\n",
    "8 5 <b>9</b> 3<br>\n",
    "</center>\n",
    "That is, 3 + 7 + 4 + 9 = 23.\n",
    "\n",
    "\n",
    "Find the maximum total from top to bottom in [triangle.txt](p067_triangle.txt) (right click and 'Save Link/Target As...'), a 15K text file containing a triangle with one-hundred rows.\n",
    "\n",
    "NOTE: This is a much more difficult version of Problem 18. It is not possible to try every route to solve this problem, as there are 299 altogether! If you could check one trillion (1012) routes every second it would take over twenty billion years to check them all. There is an efficient algorithm to solve it. ;o)\n"
   ]
  },
  {
   "cell_type": "markdown",
   "metadata": {},
   "source": [
    "## Solution"
   ]
  },
  {
   "cell_type": "code",
   "execution_count": 1,
   "metadata": {},
   "outputs": [
    {
     "name": "stdout",
     "output_type": "stream",
     "text": [
      "7273\n"
     ]
    }
   ],
   "source": [
    "with open('p067_triangle.txt', 'r') as f:\n",
    "    data = f.read()\n",
    "\n",
    "mx = [[int(y) for y in x.split()] for x in data.splitlines()]\n",
    "\n",
    "for r in range(1,len(mx)):\n",
    "    for c in range(len(mx[r-1])):\n",
    "        mx[r][c] += max(mx[r-1][c], (mx[r-1][c-1] if c else 0))\n",
    "\n",
    "print(max(mx[-1]))        \n"
   ]
  }
 ],
 "metadata": {
  "kernelspec": {
   "display_name": "Python 3",
   "language": "python",
   "name": "python3"
  },
  "language_info": {
   "codemirror_mode": {
    "name": "ipython",
    "version": 3
   },
   "file_extension": ".py",
   "mimetype": "text/x-python",
   "name": "python",
   "nbconvert_exporter": "python",
   "pygments_lexer": "ipython3",
   "version": "3.7.3"
  }
 },
 "nbformat": 4,
 "nbformat_minor": 2
}
