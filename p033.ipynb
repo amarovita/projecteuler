{
 "cells": [
  {
   "cell_type": "markdown",
   "metadata": {},
   "source": [
    "# Double-base palindromes\n",
    "## [Problem 33](https://projecteuler.net/problem=33)\n"
   ]
  },
  {
   "cell_type": "markdown",
   "metadata": {},
   "source": [
    "The fraction $\\frac{49}{98}$ is a curious fraction, as an inexperienced mathematician in attempting to simplify it may incorrectly believe that $\\frac{49}{98} = \\frac{4}{8}$, which is correct, is obtained by cancelling the 9s.\n",
    "\n",
    "We shall consider fractions like, $\\frac{30}{50} = \\frac{3}{5}$, to be trivial examples.\n",
    "\n",
    "There are exactly four non-trivial examples of this type of fraction, less than one in value, and containing two digits in the numerator and denominator.\n",
    "\n",
    "If the product of these four fractions is given in its lowest common terms, find the value of the denominator.\n"
   ]
  },
  {
   "cell_type": "markdown",
   "metadata": {},
   "source": [
    "## Solution"
   ]
  },
  {
   "cell_type": "code",
   "execution_count": 1,
   "metadata": {
    "ExecuteTime": {
     "end_time": "2019-06-08T03:22:55.928962Z",
     "start_time": "2019-06-08T03:22:55.904981Z"
    }
   },
   "outputs": [
    {
     "name": "stdout",
     "output_type": "stream",
     "text": [
      "100.0\n"
     ]
    }
   ],
   "source": [
    "from math import gcd\n",
    "\n",
    "m = n = 1\n",
    "\n",
    "for a in range(10,100):\n",
    "    for b in range(a+1,100):\n",
    "        sa = str(a)\n",
    "        sb = str(b)\n",
    "        d = set(sa).intersection(set(sb))\n",
    "        try:\n",
    "            if any(int(sa.replace(x, '')) / int(sb.replace(x, '')) == a / b for x in d if x!='0'):\n",
    "                m, n = m * a, n * b\n",
    "        except:\n",
    "            pass\n",
    "\n",
    "print(n/gcd(m,n))"
   ]
  }
 ],
 "metadata": {
  "kernelspec": {
   "display_name": "Python 3",
   "language": "python",
   "name": "python3"
  },
  "language_info": {
   "codemirror_mode": {
    "name": "ipython",
    "version": 3
   },
   "file_extension": ".py",
   "mimetype": "text/x-python",
   "name": "python",
   "nbconvert_exporter": "python",
   "pygments_lexer": "ipython3",
   "version": "3.7.3"
  },
  "varInspector": {
   "cols": {
    "lenName": 16,
    "lenType": 16,
    "lenVar": 40
   },
   "kernels_config": {
    "python": {
     "delete_cmd_postfix": "",
     "delete_cmd_prefix": "del ",
     "library": "var_list.py",
     "varRefreshCmd": "print(var_dic_list())"
    },
    "r": {
     "delete_cmd_postfix": ") ",
     "delete_cmd_prefix": "rm(",
     "library": "var_list.r",
     "varRefreshCmd": "cat(var_dic_list()) "
    }
   },
   "position": {
    "height": "152.85px",
    "left": "878px",
    "right": "20px",
    "top": "120px",
    "width": "336.667px"
   },
   "types_to_exclude": [
    "module",
    "function",
    "builtin_function_or_method",
    "instance",
    "_Feature"
   ],
   "window_display": false
  }
 },
 "nbformat": 4,
 "nbformat_minor": 2
}
