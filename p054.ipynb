{
 "cells": [
  {
   "cell_type": "markdown",
   "metadata": {},
   "source": [
    "# Poker hands\n",
    "## [Problem 54](https://projecteuler.net/problem=54)"
   ]
  },
  {
   "cell_type": "markdown",
   "metadata": {},
   "source": [
    "In the card game poker, a hand consists of five cards and are ranked, from lowest to highest, in the following way:\n",
    "\n",
    "Combination          | Description\n",
    "---------------------|------------\n",
    "           High Card | Highest value card.\n",
    "            One Pair | Two cards of the same value.\n",
    "           Two Pairs | Two different pairs.\n",
    "     Three of a Kind |  Three cards of the same value.\n",
    "Straight | All cards are consecutive values.\n",
    "Flush | All cards of the same suit.\n",
    "Full House | Three of a kind and a pair.\n",
    "Four of a Kind | Four cards of the same value.\n",
    "Straight Flush | All cards are consecutive values of same suit.\n",
    "Royal Flush | Ten, Jack, Queen, King, Ace, in same suit.\n",
    "\n",
    "The cards are valued in the order:\n",
    "\n",
    "    2, 3, 4, 5, 6, 7, 8, 9, 10, Jack, Queen, King, Ace.\n",
    "\n",
    "If two players have the same ranked hands then the rank made up of the highest value wins; for example, a pair of eights beats a pair of fives (see example 1 below). But if two ranks tie, for example, both players have a pair of queens, then highest cards in each hand are compared (see example 4 below); if the highest cards tie then the next highest cards are compared, and so on.\n",
    "\n",
    "Consider the following five hands dealt to two players:\n",
    "\n",
    "Hand\t| \tPlayer 1\t| \tPlayer 2\t| \tWinner\n",
    "--------|---------------|---------------|----------\n",
    "1\t \t|5H 5C 6S 7S KD |2C 3S 8S 8D TD |Player 2\n",
    " |Pair of Fives|Pair of Eights|\n",
    "2|\t \t5D 8C 9S JS AC|\t \t2C 5C 7D 8S QH|\t \tPlayer 1\n",
    " |Highest card Ace|Highest card Queen|\n",
    "3|\t \t2D 9C AS AH AC|\t \t3D 6D 7D TD QD|\t \tPlayer 2\n",
    " |Three Aces|Flush with Diamonds|\n",
    "4|\t \t4D 6S 9H QH QC|\t \t3D 6D 7H QD QS|\t \tPlayer 1\n",
    " |Pair of Queens<br>Highest card Nine | Pair of Queens<br>Highest card Seven|\n",
    "5|\t \t2H 2D 4C 4D 4S|\t \t3C 3D 3S 9S 9D|\t \tPlayer 1\n",
    " |Full House<br>With Three Fours|Full House<br>with Three Threes|\n",
    "\n",
    "The file, [poker.txt](p054_poker.txt), contains one-thousand random hands dealt to two players. Each line of the file contains ten cards (separated by a single space): the first five are Player 1's cards and the last five are Player 2's cards. You can assume that all hands are valid (no invalid characters or repeated cards), each player's hand is in no specific order, and in each hand there is a clear winner."
   ]
  },
  {
   "cell_type": "markdown",
   "metadata": {},
   "source": [
    "## Solution"
   ]
  },
  {
   "cell_type": "code",
   "execution_count": 1,
   "metadata": {
    "ExecuteTime": {
     "end_time": "2019-06-08T14:48:10.601167Z",
     "start_time": "2019-06-08T14:48:10.490107Z"
    }
   },
   "outputs": [
    {
     "name": "stdout",
     "output_type": "stream",
     "text": [
      "376\n"
     ]
    }
   ],
   "source": [
    "from collections import Counter\n",
    "\n",
    "values = lambda hand: list(card[0] for card in hand)\n",
    "suits =  lambda hand: list(card[1] for card in hand)\n",
    "cc =  lambda hand: Counter(values(hand)).most_common()\n",
    "\n",
    "highest = lambda h1, h2 : [(x, y) for x, y in zip(values(h1), values(h2)) if x != y][-1]\n",
    "pair = lambda h: cc(h)[0][0] if cc(h)[0][1] == 2 else 0\n",
    "twopairs = lambda h:(\n",
    "    max(cc(h)[0][0],cc(h)[1][0])*15+min(cc(h)[0][0],cc(h)[1][0]) \n",
    "    if cc(h)[0][1] == 2 and cc(h)[1][1] == 2 else 0)\n",
    "freekind = lambda h: cc(h)[0][0] if cc(h)[0][1] == 3 else 0\n",
    "straight = lambda h: h[4][0] if h[4][0] - h[0][0] == 4 and len(set(values(h)))==5 else 0\n",
    "flush = lambda h: h[4][0] if len(set(suits(h))) == 1 else 0\n",
    "fullhouse = lambda h:(\n",
    "    h[4][0]*15+h[1][0] if h[4][0] == h[2][0] and h[1][0] == h[0][0] or\n",
    "    h[4][0] == h[3][0] and h[2][0] == h[0][0] else 0)\n",
    "fourkind = lambda h: h[2][0] if h[0][0] == h[3][0] or h[1][0] == h[4][0] else 0\n",
    "straightflush = lambda h: h[4][0] if straight(h) and flush(h) else 0\n",
    "royalflush = lambda h: 14 if values(h) == [10, 11, 12, 13, 14] and flush(h) else 0\n",
    "\n",
    "checklist = (royalflush, straightflush, fourkind, fullhouse, flush, straight, freekind, twopairs, pair)\n",
    "\n",
    "def winner(x, y):\n",
    "    for rank in checklist:\n",
    "        hx, hy = rank(x), rank(y)\n",
    "        if hx or hy:\n",
    "            break\n",
    "    if hx == hy:\n",
    "        hx, hy = highest(x,y)\n",
    "    return 1 if hx > hy else 0\n",
    "\n",
    "with open('p054_poker.txt', 'r') as f:\n",
    "    total = 0\n",
    "    for line in f:\n",
    "        cards = list(('**23456789TJQKA'.index(x[0]),x[1]) for x in line.split())\n",
    "        total += winner(sorted(cards[:5]),sorted(cards[5:]))\n",
    "\n",
    "print(total)"
   ]
  }
 ],
 "metadata": {
  "kernelspec": {
   "display_name": "Python 3",
   "language": "python",
   "name": "python3"
  },
  "language_info": {
   "codemirror_mode": {
    "name": "ipython",
    "version": 3
   },
   "file_extension": ".py",
   "mimetype": "text/x-python",
   "name": "python",
   "nbconvert_exporter": "python",
   "pygments_lexer": "ipython3",
   "version": "3.7.3"
  },
  "toc": {
   "base_numbering": 1,
   "nav_menu": {},
   "number_sections": false,
   "sideBar": true,
   "skip_h1_title": false,
   "title_cell": "Table of Contents",
   "title_sidebar": "Contents",
   "toc_cell": false,
   "toc_position": {},
   "toc_section_display": true,
   "toc_window_display": false
  },
  "varInspector": {
   "cols": {
    "lenName": 16,
    "lenType": 16,
    "lenVar": 40
   },
   "kernels_config": {
    "python": {
     "delete_cmd_postfix": "",
     "delete_cmd_prefix": "del ",
     "library": "var_list.py",
     "varRefreshCmd": "print(var_dic_list())"
    },
    "r": {
     "delete_cmd_postfix": ") ",
     "delete_cmd_prefix": "rm(",
     "library": "var_list.r",
     "varRefreshCmd": "cat(var_dic_list()) "
    }
   },
   "position": {
    "height": "152.85px",
    "left": "878px",
    "right": "20px",
    "top": "120px",
    "width": "336.667px"
   },
   "types_to_exclude": [
    "module",
    "function",
    "builtin_function_or_method",
    "instance",
    "_Feature"
   ],
   "window_display": false
  }
 },
 "nbformat": 4,
 "nbformat_minor": 2
}
