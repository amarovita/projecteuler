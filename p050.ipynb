{
 "cells": [
  {
   "cell_type": "markdown",
   "metadata": {},
   "source": [
    "# Consecutive prime sum\n",
    "## [Problem 50](https://projecteuler.net/problem=50)"
   ]
  },
  {
   "cell_type": "markdown",
   "metadata": {},
   "source": [
    "\n",
    "The prime 41, can be written as the sum of six consecutive primes:\n",
    "\n",
    "    41 = 2 + 3 + 5 + 7 + 11 + 13\n",
    "\n",
    "This is the longest sum of consecutive primes that adds to a prime below one-hundred.\n",
    "\n",
    "The longest sum of consecutive primes below one-thousand that adds to a prime, contains 21 terms, and is equal to 953.\n",
    "\n",
    "Which prime, below one-million, can be written as the sum of the most consecutive primes?\n"
   ]
  },
  {
   "cell_type": "markdown",
   "metadata": {},
   "source": [
    "## Solution"
   ]
  },
  {
   "cell_type": "code",
   "execution_count": 1,
   "metadata": {
    "ExecuteTime": {
     "end_time": "2019-06-09T18:07:20.421790Z",
     "start_time": "2019-06-09T18:07:17.789311Z"
    }
   },
   "outputs": [
    {
     "name": "stdout",
     "output_type": "stream",
     "text": [
      "997651\n"
     ]
    }
   ],
   "source": [
    "def prime(m=0):\n",
    "    if m > 2:\n",
    "        yield 2\n",
    "    if m > 3:\n",
    "        yield 3\n",
    "    p, n, q = 5, 3, 9\n",
    "    while (not m) or (p < m):\n",
    "        if  all(p % x for x in range(3, n+1, 2)):\n",
    "            yield p\n",
    "        p += 2\n",
    "        while p>q:\n",
    "            q += n\n",
    "            n += 1\n",
    "            q += n\n",
    "\n",
    "ptable = list(prime(1000000))\n",
    "\n",
    "def isprime(n):\n",
    "    if n <= ptable[-1]:\n",
    "        return n in ptable\n",
    "    q = int(n ** 0.5) + 1\n",
    "    for x in ptable:\n",
    "        if n % x == 0:\n",
    "            return False\n",
    "        if x > q:\n",
    "            return True\n",
    "    if q>ptable[-1]:\n",
    "        for x in range(ptable[-1],q,2):\n",
    "            if n % x == 0:\n",
    "                return False\n",
    "    return True\n",
    "\n",
    "def cs(a, n):\n",
    "    return sum(ptable[a:a+n])\n",
    "\n",
    "maxsize = 0\n",
    "maxpr = 0\n",
    "\n",
    "for size in range(546, 22, -1):\n",
    "    for start in range(len(ptable)-size):\n",
    "        x = cs(start, size)\n",
    "        if x >= 1000000:\n",
    "            break\n",
    "        if isprime(x):\n",
    "            maxsize = size\n",
    "            maxpr = x\n",
    "            break\n",
    "    if maxsize:\n",
    "        break\n",
    "    \n",
    "print(maxpr)\n"
   ]
  }
 ],
 "metadata": {
  "hide_input": false,
  "kernelspec": {
   "display_name": "Python 3",
   "language": "python",
   "name": "python3"
  },
  "language_info": {
   "codemirror_mode": {
    "name": "ipython",
    "version": 3
   },
   "file_extension": ".py",
   "mimetype": "text/x-python",
   "name": "python",
   "nbconvert_exporter": "python",
   "pygments_lexer": "ipython3",
   "version": "3.7.3"
  },
  "toc": {
   "base_numbering": 1,
   "nav_menu": {},
   "number_sections": false,
   "sideBar": true,
   "skip_h1_title": false,
   "title_cell": "Table of Contents",
   "title_sidebar": "Contents",
   "toc_cell": false,
   "toc_position": {},
   "toc_section_display": true,
   "toc_window_display": false
  },
  "varInspector": {
   "cols": {
    "lenName": 16,
    "lenType": 16,
    "lenVar": 40
   },
   "kernels_config": {
    "python": {
     "delete_cmd_postfix": "",
     "delete_cmd_prefix": "del ",
     "library": "var_list.py",
     "varRefreshCmd": "print(var_dic_list())"
    },
    "r": {
     "delete_cmd_postfix": ") ",
     "delete_cmd_prefix": "rm(",
     "library": "var_list.r",
     "varRefreshCmd": "cat(var_dic_list()) "
    }
   },
   "position": {
    "height": "152.85px",
    "left": "878px",
    "right": "20px",
    "top": "120px",
    "width": "336.667px"
   },
   "types_to_exclude": [
    "module",
    "function",
    "builtin_function_or_method",
    "instance",
    "_Feature"
   ],
   "window_display": false
  }
 },
 "nbformat": 4,
 "nbformat_minor": 2
}
