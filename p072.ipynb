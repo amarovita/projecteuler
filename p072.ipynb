{
 "cells": [
  {
   "cell_type": "markdown",
   "metadata": {
    "ExecuteTime": {
     "end_time": "2019-06-11T19:59:30.757199Z",
     "start_time": "2019-06-11T19:59:29.528398Z"
    }
   },
   "source": [
    "# Counting fractions\n",
    "## __[Problem 72](http://projecteuler.net/problem=72)__"
   ]
  },
  {
   "cell_type": "markdown",
   "metadata": {},
   "source": [
    "Consider the fraction, n/d, where n and d are positive integers. If n<d and HCF(n,d)=1, it is called a reduced proper fraction.\n",
    "\n",
    "If we list the set of reduced proper fractions for d ≤ 8 in ascending order of size, we get:\n",
    "\n",
    "1/8, 1/7, 1/6, 1/5, 1/4, 2/7, 1/3, 3/8, 2/5, 3/7, 1/2, 4/7, 3/5, 5/8, 2/3, 5/7, 3/4, 4/5, 5/6, 6/7, 7/8\n",
    "\n",
    "It can be seen that there are 21 elements in this set.\n",
    "\n",
    "How many elements would be contained in the set of reduced proper fractions for d ≤ 1,000,000?\n"
   ]
  },
  {
   "cell_type": "code",
   "execution_count": null,
   "metadata": {
    "ExecuteTime": {
     "end_time": "2019-06-18T07:32:51.313871Z",
     "start_time": "2019-06-18T07:32:47.295741Z"
    }
   },
   "outputs": [],
   "source": [
    "from primes import get_primes\n",
    "\n",
    "pr = get_primes(100001)\n",
    "\n",
    "def factor(d):\n",
    "    if d in pr:\n",
    "        yield d\n",
    "    else:\n",
    "        for x in pr:\n",
    "            if x > d:\n",
    "                break\n",
    "            if d % x == 0:\n",
    "                yield x\n",
    "\n",
    "def euler(d):\n",
    "    num, den = d, 1\n",
    "    for x in factor(d):\n",
    "        num *= x - 1\n",
    "        den *= x\n",
    "    return num // den\n",
    "\n",
    "print(sum(euler(x) for x in range(2,1000001)))"
   ]
  },
  {
   "cell_type": "markdown",
   "metadata": {},
   "source": [
    "## Answer\n",
    "\n",
    "It took about 10 to 15 minutes with pypy.\n",
    "The answer was: \n",
    "    \n",
    "    303963552391"
   ]
  },
  {
   "cell_type": "markdown",
   "metadata": {},
   "source": [
    "## Alternate solution\n",
    "No table of primes. But faster. Using table should make it ever faster."
   ]
  },
  {
   "cell_type": "code",
   "execution_count": 1,
   "metadata": {},
   "outputs": [
    {
     "name": "stdout",
     "output_type": "stream",
     "text": [
      "303963552391\n"
     ]
    }
   ],
   "source": [
    "def pf(n):\n",
    "    if n == 1:\n",
    "        return 0\n",
    "    r = n\n",
    "    q = 1 + int(n ** 0.5)\n",
    "    m = 2\n",
    "    while m < q and n > 1:\n",
    "        if n % m == 0:\n",
    "            while n % m == 0:\n",
    "                n //= m\n",
    "            r = r * (m - 1) // m\n",
    "        m += 1\n",
    "    if n > 1:\n",
    "        r = r * (n - 1) // n\n",
    "    return r \n",
    "\n",
    "print(sum(pf(x) for x in range(2,1000001)))"
   ]
  }
 ],
 "metadata": {
  "hide_input": false,
  "kernelspec": {
   "display_name": "Python 3",
   "language": "python",
   "name": "python3"
  },
  "language_info": {
   "codemirror_mode": {
    "name": "ipython",
    "version": 3
   },
   "file_extension": ".py",
   "mimetype": "text/x-python",
   "name": "python",
   "nbconvert_exporter": "python",
   "pygments_lexer": "ipython3",
   "version": "3.7.3"
  },
  "toc": {
   "base_numbering": 1,
   "nav_menu": {},
   "number_sections": false,
   "sideBar": true,
   "skip_h1_title": false,
   "title_cell": "Table of Contents",
   "title_sidebar": "Contents",
   "toc_cell": false,
   "toc_position": {},
   "toc_section_display": true,
   "toc_window_display": false
  },
  "varInspector": {
   "cols": {
    "lenName": 16,
    "lenType": 16,
    "lenVar": 40
   },
   "kernels_config": {
    "python": {
     "delete_cmd_postfix": "",
     "delete_cmd_prefix": "del ",
     "library": "var_list.py",
     "varRefreshCmd": "print(var_dic_list())"
    },
    "r": {
     "delete_cmd_postfix": ") ",
     "delete_cmd_prefix": "rm(",
     "library": "var_list.r",
     "varRefreshCmd": "cat(var_dic_list()) "
    }
   },
   "position": {
    "height": "152.85px",
    "left": "878px",
    "right": "20px",
    "top": "120px",
    "width": "336.667px"
   },
   "types_to_exclude": [
    "module",
    "function",
    "builtin_function_or_method",
    "instance",
    "_Feature"
   ],
   "window_display": false
  }
 },
 "nbformat": 4,
 "nbformat_minor": 2
}
