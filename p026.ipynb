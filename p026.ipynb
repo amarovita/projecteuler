{
 "cells": [
  {
   "cell_type": "markdown",
   "metadata": {},
   "source": [
    "# Reciprocal cycles\n",
    "## [Problem 26](https://projecteuler.net/problem=26)"
   ]
  },
  {
   "cell_type": "markdown",
   "metadata": {},
   "source": [
    "A unit fraction contains 1 in the numerator. The decimal representation of the unit fractions with denominators 2 to 10 are given:\n",
    "\n",
    "\n",
    "\n",
    "$$  ^{1}\\diagup_{2} = 0.5\\\\\n",
    "    ^{1}\\diagup_{3}\t= \t0.(3)\\\\\n",
    "    ^{1}\\diagup_{4}\t= \t0.25\\\\\n",
    "    ^{1}\\diagup_{5}\t= \t0.2\\\\\n",
    "    ^{1}\\diagup_{6}\t= \t0.1(6)\\\\\n",
    "    ^{1}\\diagup_{7}\t= \t0.(142857)\\\\\n",
    "    ^{1}\\diagup_{8}\t= \t0.125\\\\\n",
    "    ^{1}\\diagup_{9}\t= \t0.(1)\\\\\n",
    "    ^{1}\\diagup_{10}\t= \t0.1$$ \n",
    "\n",
    "Where 0.1(6) means 0.166666..., and has a 1-digit recurring cycle. It can be seen that 1/7 has a 6-digit recurring cycle.\n",
    "\n",
    "Find the value of d < 1000 for which 1/d contains the longest recurring cycle in its decimal fraction part."
   ]
  },
  {
   "cell_type": "markdown",
   "metadata": {},
   "source": [
    "## Solution"
   ]
  },
  {
   "cell_type": "code",
   "execution_count": 1,
   "metadata": {
    "ExecuteTime": {
     "end_time": "2019-06-11T04:04:40.798321Z",
     "start_time": "2019-06-11T04:04:40.478442Z"
    }
   },
   "outputs": [
    {
     "name": "stdout",
     "output_type": "stream",
     "text": [
      "983\n"
     ]
    }
   ],
   "source": [
    "mx = 0\n",
    "vx = 0\n",
    "for x in range(2, 1000):\n",
    "    f = [1]\n",
    "    while True:\n",
    "        n = (f[0] * 10) % x\n",
    "        if n == 0:\n",
    "            break\n",
    "        if n in f:\n",
    "            if mx < f.index(n):\n",
    "                mx = f.index(n)\n",
    "                vx = x\n",
    "            break\n",
    "        f.insert(0, n)\n",
    "print(vx)\n"
   ]
  }
 ],
 "metadata": {
  "hide_input": false,
  "kernelspec": {
   "display_name": "Python 3",
   "language": "python",
   "name": "python3"
  },
  "language_info": {
   "codemirror_mode": {
    "name": "ipython",
    "version": 3
   },
   "file_extension": ".py",
   "mimetype": "text/x-python",
   "name": "python",
   "nbconvert_exporter": "python",
   "pygments_lexer": "ipython3",
   "version": "3.7.3"
  },
  "toc": {
   "base_numbering": 1,
   "nav_menu": {},
   "number_sections": false,
   "sideBar": true,
   "skip_h1_title": false,
   "title_cell": "Table of Contents",
   "title_sidebar": "Contents",
   "toc_cell": false,
   "toc_position": {},
   "toc_section_display": true,
   "toc_window_display": false
  },
  "varInspector": {
   "cols": {
    "lenName": 16,
    "lenType": 16,
    "lenVar": 40
   },
   "kernels_config": {
    "python": {
     "delete_cmd_postfix": "",
     "delete_cmd_prefix": "del ",
     "library": "var_list.py",
     "varRefreshCmd": "print(var_dic_list())"
    },
    "r": {
     "delete_cmd_postfix": ") ",
     "delete_cmd_prefix": "rm(",
     "library": "var_list.r",
     "varRefreshCmd": "cat(var_dic_list()) "
    }
   },
   "position": {
    "height": "152.85px",
    "left": "878px",
    "right": "20px",
    "top": "120px",
    "width": "336.667px"
   },
   "types_to_exclude": [
    "module",
    "function",
    "builtin_function_or_method",
    "instance",
    "_Feature"
   ],
   "window_display": false
  }
 },
 "nbformat": 4,
 "nbformat_minor": 2
}
