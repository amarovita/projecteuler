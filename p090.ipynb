{
 "cells": [
  {
   "cell_type": "markdown",
   "metadata": {},
   "source": [
    "# Cube digit pairs\n",
    "## __[Problem 90](http://projecteuler.net/problem=90)__"
   ]
  },
  {
   "attachments": {
    "%D0%B8%D0%B7%D0%BE%D0%B1%D1%80%D0%B0%D0%B6%D0%B5%D0%BD%D0%B8%D0%B5.png": {
     "image/png": "[encoded data removed]"
    }
   },
   "cell_type": "markdown",
   "metadata": {},
   "source": [
    "Each of the six faces on a cube has a different digit (0 to 9) written on it; the same is done to a second cube. By placing the two cubes side-by-side in different positions we can form a variety of 2-digit numbers.\n",
    "\n",
    "For example, the square number 64 could be formed:\n",
    "\n",
    "![%D0%B8%D0%B7%D0%BE%D0%B1%D1%80%D0%B0%D0%B6%D0%B5%D0%BD%D0%B8%D0%B5.png](attachment:%D0%B8%D0%B7%D0%BE%D0%B1%D1%80%D0%B0%D0%B6%D0%B5%D0%BD%D0%B8%D0%B5.png)\n",
    "\n",
    "In fact, by carefully choosing the digits on both cubes it is possible to display all of the square numbers below one-hundred: 01, 04, 09, 16, 25, 36, 49, 64, and 81.\n",
    "\n",
    "For example, one way this can be achieved is by placing `{0, 5, 6, 7, 8, 9}` on one cube and `{1, 2, 3, 4, 8, 9}` on the other cube.\n",
    "\n",
    "However, for this problem we shall allow the 6 or 9 to be turned upside-down so that an arrangement like `{0, 5, 6, 7, 8, 9}` and `{1, 2, 3, 4, 6, 7}` allows for all nine square numbers to be displayed; otherwise it would be impossible to obtain 09.\n",
    "\n",
    "In determining a distinct arrangement we are interested in the digits on each cube, not the order.\n",
    "\n",
    "    {1, 2, 3, 4, 5, 6} is equivalent to {3, 6, 4, 1, 2, 5}\n",
    "    {1, 2, 3, 4, 5, 6} is distinct from {1, 2, 3, 4, 5, 9}\n",
    "\n",
    "But because we are allowing 6 and 9 to be reversed, the two distinct sets in the last example both represent the extended set `{1, 2, 3, 4, 5, 6, 9}` for the purpose of forming 2-digit numbers.\n",
    "\n",
    "How many distinct arrangements of the two cubes allow for all of the square numbers to be displayed?\n"
   ]
  },
  {
   "cell_type": "markdown",
   "metadata": {},
   "source": [
    "## Solution"
   ]
  },
  {
   "cell_type": "code",
   "execution_count": 1,
   "metadata": {},
   "outputs": [
    {
     "name": "stdout",
     "output_type": "stream",
     "text": [
      "1217\n"
     ]
    }
   ],
   "source": [
    "from itertools import combinations, starmap\n",
    "\n",
    "nc = lambda x: [6 if z == 9 else z for z in x]\n",
    "sqn = [(0,1), (0,4), (0,6), (1,6), (1,8), (2,5), (3,6), (4,6)]\n",
    "\n",
    "total = 0\n",
    "\n",
    "for cube1, cube2 in combinations(map(nc,combinations(range(10),6)),2):\n",
    "    if all((ten in cube1) and (one in cube2) or (one in cube1) and (ten in cube2) for ten, one in sqn):\n",
    "        total += 1\n",
    "\n",
    "print(total)\n"
   ]
  }
 ],
 "metadata": {
  "kernelspec": {
   "display_name": "Python 3",
   "language": "python",
   "name": "python3"
  },
  "language_info": {
   "codemirror_mode": {
    "name": "ipython",
    "version": 3
   },
   "file_extension": ".py",
   "mimetype": "text/x-python",
   "name": "python",
   "nbconvert_exporter": "python",
   "pygments_lexer": "ipython3",
   "version": "3.7.3"
  }
 },
 "nbformat": 4,
 "nbformat_minor": 2
}
