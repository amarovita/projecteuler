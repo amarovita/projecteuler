{
 "cells": [
  {
   "cell_type": "markdown",
   "metadata": {},
   "source": [
    "# Square root convergents\n",
    "## [Problem 57](https://projecteuler.net/problem=57)"
   ]
  },
  {
   "cell_type": "markdown",
   "metadata": {},
   "source": [
    "It is possible to show that the square root of two can be expressed as an infinite continued fraction.\n",
    "\n",
    "$$\\sqrt{2} = 1 + \\dfrac{1}{2 + \\dfrac{1}{2 + \\dfrac{1}{2 + \\ddots}}} = 1.414213\\ldots$$\n",
    "\n",
    "By expanding this for the first four iterations, we get:\n",
    "\n",
    "$$\n",
    "1 + 1/2 = 3/2 = 1.5\\\\\n",
    "1 + 1/(2 + 1/2) = 7/5 = 1.4\\\\\n",
    "1 + 1/(2 + 1/(2 + 1/2)) = 17/12 = 1.41666\\ldots\\\\\n",
    "1 + 1/(2 + 1/(2 + 1/(2 + 1/2))) = 41/29 = 1.41379\\ldots\n",
    "$$\n",
    "\n",
    "The next three expansions are 99/70, 239/169, and 577/408, but the eighth expansion, 1393/985, is the first example where the number of digits in the numerator exceeds the number of digits in the denominator.\n",
    "\n",
    "In the first one-thousand expansions, how many fractions contain a numerator with more digits than denominator?\n"
   ]
  },
  {
   "cell_type": "markdown",
   "metadata": {},
   "source": [
    "## Solution\n",
    "__[wikipedia](https://en.wikipedia.org/wiki/Square_root_of_2#Continued_fraction_representation)__\n",
    "\n",
    "The square root of 2 and approximations by convergents of continued fractions\n",
    "$$\n",
    "\\sqrt{2}=1+\\dfrac{1}{2+\\dfrac{1}{2+\\dfrac{1}{2+\\dfrac{1}{2+\\ddots}}}}\n",
    "$$\n",
    "\n",
    "The convergents formed by truncating this representation form a sequence of fractions that approximate the square root of two to increasing accuracy, and that are described by the Pell numbers (known as side and diameter numbers to the ancient Greeks because of their use in approximating the ratio between the sides and diagonal of a square). The first convergents are: $\\frac{1}{1}, \\frac{3}{2}, \\frac{7}{5}, \\frac{17}{12}, \\frac{41}{29}, \\frac{99}{70}, \\frac{239}{169}, \\frac{577}{408}$. The convergent $\\frac{p}{q}$ differs from $sqrt{2}$ by almost exactly $\\frac{1}{2q^2\\sqrt{2}}$ and then the next convergent is $\\frac{p + 2q}{p + q}$. "
   ]
  },
  {
   "cell_type": "code",
   "execution_count": 1,
   "metadata": {
    "ExecuteTime": {
     "end_time": "2019-06-13T08:05:34.682075Z",
     "start_time": "2019-06-13T08:05:34.666810Z"
    }
   },
   "outputs": [
    {
     "name": "stdout",
     "output_type": "stream",
     "text": [
      "153\n"
     ]
    }
   ],
   "source": [
    "p = q = 1\n",
    "total = 0\n",
    "for _ in range(1000):\n",
    "    p, q = p + q * 2, p + q\n",
    "    if len(str(p)) > len(str(q)):\n",
    "        total += 1\n",
    "print(total)\n"
   ]
  }
 ],
 "metadata": {
  "hide_input": false,
  "kernelspec": {
   "display_name": "Python 3",
   "language": "python",
   "name": "python3"
  },
  "language_info": {
   "codemirror_mode": {
    "name": "ipython",
    "version": 3
   },
   "file_extension": ".py",
   "mimetype": "text/x-python",
   "name": "python",
   "nbconvert_exporter": "python",
   "pygments_lexer": "ipython3",
   "version": "3.7.3"
  },
  "toc": {
   "base_numbering": 1,
   "nav_menu": {},
   "number_sections": false,
   "sideBar": true,
   "skip_h1_title": false,
   "title_cell": "Table of Contents",
   "title_sidebar": "Contents",
   "toc_cell": false,
   "toc_position": {},
   "toc_section_display": true,
   "toc_window_display": false
  },
  "varInspector": {
   "cols": {
    "lenName": 16,
    "lenType": 16,
    "lenVar": 40
   },
   "kernels_config": {
    "python": {
     "delete_cmd_postfix": "",
     "delete_cmd_prefix": "del ",
     "library": "var_list.py",
     "varRefreshCmd": "print(var_dic_list())"
    },
    "r": {
     "delete_cmd_postfix": ") ",
     "delete_cmd_prefix": "rm(",
     "library": "var_list.r",
     "varRefreshCmd": "cat(var_dic_list()) "
    }
   },
   "position": {
    "height": "152.85px",
    "left": "878px",
    "right": "20px",
    "top": "120px",
    "width": "336.667px"
   },
   "types_to_exclude": [
    "module",
    "function",
    "builtin_function_or_method",
    "instance",
    "_Feature"
   ],
   "window_display": false
  }
 },
 "nbformat": 4,
 "nbformat_minor": 2
}
